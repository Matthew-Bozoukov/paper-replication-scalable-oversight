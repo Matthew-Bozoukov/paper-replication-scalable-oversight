{
 "cells": [
  {
   "cell_type": "code",
   "execution_count": 3,
   "id": "732f1ec6-14f5-4c3f-9610-6856a85cadb5",
   "metadata": {},
   "outputs": [
    {
     "name": "stdout",
     "output_type": "stream",
     "text": [
      "Defaulting to user installation because normal site-packages is not writeable\n",
      "Requirement already satisfied: tqdm in /opt/anaconda3/lib/python3.12/site-packages (4.66.5)\n",
      "Requirement already satisfied: datasets in ./.local/lib/python3.12/site-packages (4.0.0)\n",
      "Requirement already satisfied: openai in ./.local/lib/python3.12/site-packages (1.95.1)\n",
      "Collecting anthropic\n",
      "  Downloading anthropic-0.57.1-py3-none-any.whl.metadata (27 kB)\n",
      "Requirement already satisfied: filelock in /opt/anaconda3/lib/python3.12/site-packages (from datasets) (3.13.1)\n",
      "Requirement already satisfied: numpy>=1.17 in /opt/anaconda3/lib/python3.12/site-packages (from datasets) (1.26.4)\n",
      "Requirement already satisfied: pyarrow>=15.0.0 in /opt/anaconda3/lib/python3.12/site-packages (from datasets) (16.1.0)\n",
      "Requirement already satisfied: dill<0.3.9,>=0.3.0 in /opt/anaconda3/lib/python3.12/site-packages (from datasets) (0.3.8)\n",
      "Requirement already satisfied: pandas in /opt/anaconda3/lib/python3.12/site-packages (from datasets) (2.2.2)\n",
      "Requirement already satisfied: requests>=2.32.2 in /opt/anaconda3/lib/python3.12/site-packages (from datasets) (2.32.3)\n",
      "Requirement already satisfied: xxhash in ./.local/lib/python3.12/site-packages (from datasets) (3.5.0)\n",
      "Requirement already satisfied: multiprocess<0.70.17 in ./.local/lib/python3.12/site-packages (from datasets) (0.70.16)\n",
      "Requirement already satisfied: fsspec<=2025.3.0,>=2023.1.0 in /opt/anaconda3/lib/python3.12/site-packages (from fsspec[http]<=2025.3.0,>=2023.1.0->datasets) (2024.6.1)\n",
      "Requirement already satisfied: huggingface-hub>=0.24.0 in ./.local/lib/python3.12/site-packages (from datasets) (0.33.4)\n",
      "Requirement already satisfied: packaging in /opt/anaconda3/lib/python3.12/site-packages (from datasets) (24.1)\n",
      "Requirement already satisfied: pyyaml>=5.1 in /opt/anaconda3/lib/python3.12/site-packages (from datasets) (6.0.1)\n",
      "Requirement already satisfied: anyio<5,>=3.5.0 in /opt/anaconda3/lib/python3.12/site-packages (from openai) (4.2.0)\n",
      "Requirement already satisfied: distro<2,>=1.7.0 in /opt/anaconda3/lib/python3.12/site-packages (from openai) (1.9.0)\n",
      "Requirement already satisfied: httpx<1,>=0.23.0 in /opt/anaconda3/lib/python3.12/site-packages (from openai) (0.27.0)\n",
      "Requirement already satisfied: jiter<1,>=0.4.0 in ./.local/lib/python3.12/site-packages (from openai) (0.10.0)\n",
      "Requirement already satisfied: pydantic<3,>=1.9.0 in /opt/anaconda3/lib/python3.12/site-packages (from openai) (2.8.2)\n",
      "Requirement already satisfied: sniffio in /opt/anaconda3/lib/python3.12/site-packages (from openai) (1.3.0)\n",
      "Requirement already satisfied: typing-extensions<5,>=4.11 in /opt/anaconda3/lib/python3.12/site-packages (from openai) (4.11.0)\n",
      "Requirement already satisfied: idna>=2.8 in /opt/anaconda3/lib/python3.12/site-packages (from anyio<5,>=3.5.0->openai) (3.7)\n",
      "Requirement already satisfied: aiohttp!=4.0.0a0,!=4.0.0a1 in /opt/anaconda3/lib/python3.12/site-packages (from fsspec[http]<=2025.3.0,>=2023.1.0->datasets) (3.10.5)\n",
      "Requirement already satisfied: certifi in /opt/anaconda3/lib/python3.12/site-packages (from httpx<1,>=0.23.0->openai) (2024.8.30)\n",
      "Requirement already satisfied: httpcore==1.* in /opt/anaconda3/lib/python3.12/site-packages (from httpx<1,>=0.23.0->openai) (1.0.2)\n",
      "Requirement already satisfied: h11<0.15,>=0.13 in /opt/anaconda3/lib/python3.12/site-packages (from httpcore==1.*->httpx<1,>=0.23.0->openai) (0.14.0)\n",
      "Requirement already satisfied: hf-xet<2.0.0,>=1.1.2 in ./.local/lib/python3.12/site-packages (from huggingface-hub>=0.24.0->datasets) (1.1.5)\n",
      "Requirement already satisfied: annotated-types>=0.4.0 in /opt/anaconda3/lib/python3.12/site-packages (from pydantic<3,>=1.9.0->openai) (0.6.0)\n",
      "Requirement already satisfied: pydantic-core==2.20.1 in /opt/anaconda3/lib/python3.12/site-packages (from pydantic<3,>=1.9.0->openai) (2.20.1)\n",
      "Requirement already satisfied: charset-normalizer<4,>=2 in /opt/anaconda3/lib/python3.12/site-packages (from requests>=2.32.2->datasets) (3.3.2)\n",
      "Requirement already satisfied: urllib3<3,>=1.21.1 in /opt/anaconda3/lib/python3.12/site-packages (from requests>=2.32.2->datasets) (2.2.3)\n",
      "Requirement already satisfied: python-dateutil>=2.8.2 in /opt/anaconda3/lib/python3.12/site-packages (from pandas->datasets) (2.9.0.post0)\n",
      "Requirement already satisfied: pytz>=2020.1 in /opt/anaconda3/lib/python3.12/site-packages (from pandas->datasets) (2024.1)\n",
      "Requirement already satisfied: tzdata>=2022.7 in /opt/anaconda3/lib/python3.12/site-packages (from pandas->datasets) (2023.3)\n",
      "Requirement already satisfied: aiohappyeyeballs>=2.3.0 in /opt/anaconda3/lib/python3.12/site-packages (from aiohttp!=4.0.0a0,!=4.0.0a1->fsspec[http]<=2025.3.0,>=2023.1.0->datasets) (2.4.0)\n",
      "Requirement already satisfied: aiosignal>=1.1.2 in /opt/anaconda3/lib/python3.12/site-packages (from aiohttp!=4.0.0a0,!=4.0.0a1->fsspec[http]<=2025.3.0,>=2023.1.0->datasets) (1.2.0)\n",
      "Requirement already satisfied: attrs>=17.3.0 in /opt/anaconda3/lib/python3.12/site-packages (from aiohttp!=4.0.0a0,!=4.0.0a1->fsspec[http]<=2025.3.0,>=2023.1.0->datasets) (23.1.0)\n",
      "Requirement already satisfied: frozenlist>=1.1.1 in /opt/anaconda3/lib/python3.12/site-packages (from aiohttp!=4.0.0a0,!=4.0.0a1->fsspec[http]<=2025.3.0,>=2023.1.0->datasets) (1.4.0)\n",
      "Requirement already satisfied: multidict<7.0,>=4.5 in /opt/anaconda3/lib/python3.12/site-packages (from aiohttp!=4.0.0a0,!=4.0.0a1->fsspec[http]<=2025.3.0,>=2023.1.0->datasets) (6.0.4)\n",
      "Requirement already satisfied: yarl<2.0,>=1.0 in /opt/anaconda3/lib/python3.12/site-packages (from aiohttp!=4.0.0a0,!=4.0.0a1->fsspec[http]<=2025.3.0,>=2023.1.0->datasets) (1.11.0)\n",
      "Requirement already satisfied: six>=1.5 in /opt/anaconda3/lib/python3.12/site-packages (from python-dateutil>=2.8.2->pandas->datasets) (1.16.0)\n",
      "Downloading anthropic-0.57.1-py3-none-any.whl (292 kB)\n",
      "Installing collected packages: anthropic\n",
      "Successfully installed anthropic-0.57.1\n",
      "Note: you may need to restart the kernel to use updated packages.\n"
     ]
    }
   ],
   "source": [
    "pip install tqdm datasets openai anthropic"
   ]
  },
  {
   "cell_type": "code",
   "execution_count": 5,
   "id": "530c2168-2693-406f-9fd7-2afb23239792",
   "metadata": {},
   "outputs": [],
   "source": [
    "from datasets import load_dataset\n",
    "\n",
    "from openai import OpenAI\n",
    "from tqdm import tqdm\n",
    "import json\n",
    "import os\n",
    "import anthropic"
   ]
  },
  {
   "cell_type": "code",
   "execution_count": 3,
   "id": "0261bc8e-dda4-4484-b884-7eb07885d263",
   "metadata": {},
   "outputs": [],
   "source": [
    "def save_to_json(dictionary, file_name, force_overwrite=True):\n",
    "    \n",
    "    directory = os.path.dirname(file_name)\n",
    "    if directory != \"\" and not os.path.exists(directory):\n",
    "        os.makedirs(directory)\n",
    "\n",
    "    if not force_overwrite and os.path.exists(file_name):\n",
    "        return\n",
    "\n",
    "    with open(file_name, \"w\") as f:\n",
    "        json.dump(dictionary, f)\n",
    "\n",
    "\n",
    "def load_from_json(file_name) -> dict:\n",
    "    with open(file_name, \"r\") as f:\n",
    "        return json.load(f)\n",
    "\n",
    "N = 1000\n",
    "\n",
    "def load_data(dataset):\n",
    "    \n",
    "\n",
    "    articles = load_from_json(f\"{dataset}_train_articles.json\")\n",
    "    \n",
    "    keys = list(articles.keys())\n",
    "    return  articles, keys"
   ]
  },
  {
   "cell_type": "code",
   "execution_count": 14,
   "id": "220e1330-b9ab-424e-a8a1-0d4717fa38dd",
   "metadata": {
    "scrolled": true
   },
   "outputs": [
    {
     "name": "stdout",
     "output_type": "stream",
     "text": [
      "starting xsum\n"
     ]
    },
    {
     "name": "stderr",
     "output_type": "stream",
     "text": [
      "  0%|                                                   | 0/100 [00:00<?, ?it/s]"
     ]
    },
    {
     "name": "stdout",
     "output_type": "stream",
     "text": [
      "35232142\n"
     ]
    },
    {
     "name": "stderr",
     "output_type": "stream",
     "text": [
      "  1%|▍                                          | 1/100 [00:00<01:16,  1.30it/s]"
     ]
    },
    {
     "name": "stdout",
     "output_type": "stream",
     "text": [
      "Severe flooding in Newton Stewart, Hawick, and Peeblesshire has caused significant damage, with calls for more preventative measures and a faster response from authorities.\n",
      "40143035\n"
     ]
    },
    {
     "name": "stderr",
     "output_type": "stream",
     "text": [
      "  2%|▊                                          | 2/100 [00:01<00:58,  1.66it/s]"
     ]
    },
    {
     "name": "stdout",
     "output_type": "stream",
     "text": [
      "Fire at Holiday Inn in Northern Ireland destroys two tour buses, police suspect arson.\n",
      "35951548\n"
     ]
    },
    {
     "name": "stderr",
     "output_type": "stream",
     "text": [
      "  3%|█▎                                         | 3/100 [00:01<01:01,  1.59it/s]"
     ]
    },
    {
     "name": "stdout",
     "output_type": "stream",
     "text": [
      "Mercedes stretched their lead over Ferrari in the final laps, with Lewis Hamilton taking pole position ahead of Nico Rosberg, Sebastian Vettel, and Kimi Raikkonen.\n",
      "36266422\n"
     ]
    },
    {
     "name": "stderr",
     "output_type": "stream",
     "text": [
      "  4%|█▋                                         | 4/100 [00:02<01:08,  1.41it/s]"
     ]
    },
    {
     "name": "stdout",
     "output_type": "stream",
     "text": [
      "A 67-year-old former scout leader in Lincolnshire and Cambridgeshire faces 22 charges, including indecency with a child, which he denies.\n",
      "38826984\n"
     ]
    },
    {
     "name": "stderr",
     "output_type": "stream",
     "text": [
      "  4%|█▋                                         | 4/100 [00:02<01:11,  1.35it/s]\n"
     ]
    },
    {
     "ename": "KeyboardInterrupt",
     "evalue": "",
     "output_type": "error",
     "traceback": [
      "\u001b[0;31m---------------------------------------------------------------------------\u001b[0m",
      "\u001b[0;31mKeyboardInterrupt\u001b[0m                         Traceback (most recent call last)",
      "Cell \u001b[0;32mIn[14], line 68\u001b[0m\n\u001b[1;32m     66\u001b[0m \u001b[38;5;28;01mfor\u001b[39;00m key \u001b[38;5;129;01min\u001b[39;00m tqdm(xsum_keys[:N]):\n\u001b[1;32m     67\u001b[0m     \u001b[38;5;28mprint\u001b[39m(key)\n\u001b[0;32m---> 68\u001b[0m     results[key] \u001b[38;5;241m=\u001b[39m get_model_summary(xsum_articles[key], \u001b[38;5;124m\"\u001b[39m\u001b[38;5;124mxsum\u001b[39m\u001b[38;5;124m\"\u001b[39m, model)\n\u001b[1;32m     69\u001b[0m     \u001b[38;5;66;03m# print(key)\u001b[39;00m\n\u001b[1;32m     70\u001b[0m     \u001b[38;5;66;03m# print(results[key])\u001b[39;00m\n\u001b[1;32m     71\u001b[0m save_to_json(results, \u001b[38;5;124mf\u001b[39m\u001b[38;5;124m\"\u001b[39m\u001b[38;5;124msummaries/xsum/xsum_train_\u001b[39m\u001b[38;5;132;01m{\u001b[39;00mmodel\u001b[38;5;132;01m}\u001b[39;00m\u001b[38;5;124m_responses.json\u001b[39m\u001b[38;5;124m\"\u001b[39m)\n",
      "Cell \u001b[0;32mIn[14], line 42\u001b[0m, in \u001b[0;36mget_model_summary\u001b[0;34m(article, dataset, model)\u001b[0m\n\u001b[1;32m     40\u001b[0m         \u001b[38;5;28;01mreturn\u001b[39;00m response\u001b[38;5;241m.\u001b[39mchoices[\u001b[38;5;241m0\u001b[39m]\u001b[38;5;241m.\u001b[39mmessage\u001b[38;5;241m.\u001b[39mcontent\n\u001b[1;32m     41\u001b[0m     \u001b[38;5;28;01mif\u001b[39;00m model\u001b[38;5;241m==\u001b[39m\u001b[38;5;124m\"\u001b[39m\u001b[38;5;124mclaude-3-haiku-20240307\u001b[39m\u001b[38;5;124m\"\u001b[39m:\n\u001b[0;32m---> 42\u001b[0m         message \u001b[38;5;241m=\u001b[39m client\u001b[38;5;241m.\u001b[39mmessages\u001b[38;5;241m.\u001b[39mcreate(\n\u001b[1;32m     43\u001b[0m     model\u001b[38;5;241m=\u001b[39mmodel,\n\u001b[1;32m     44\u001b[0m     max_tokens\u001b[38;5;241m=\u001b[39m\u001b[38;5;241m100\u001b[39m,\n\u001b[1;32m     45\u001b[0m     temperature\u001b[38;5;241m=\u001b[39m\u001b[38;5;241m0\u001b[39m,\n\u001b[1;32m     46\u001b[0m     system\u001b[38;5;241m=\u001b[39mDATASET_SYSTEM_PROMPTS[dataset],\n\u001b[1;32m     47\u001b[0m     messages\u001b[38;5;241m=\u001b[39m [\n\u001b[1;32m     48\u001b[0m         \n\u001b[1;32m     49\u001b[0m         {\n\u001b[1;32m     50\u001b[0m             \u001b[38;5;124m\"\u001b[39m\u001b[38;5;124mrole\u001b[39m\u001b[38;5;124m\"\u001b[39m: \u001b[38;5;124m\"\u001b[39m\u001b[38;5;124muser\u001b[39m\u001b[38;5;124m\"\u001b[39m,\n\u001b[1;32m     51\u001b[0m             \u001b[38;5;124m\"\u001b[39m\u001b[38;5;124mcontent\u001b[39m\u001b[38;5;124m\"\u001b[39m: \u001b[38;5;124mf\u001b[39m\u001b[38;5;124m\"\u001b[39m\u001b[38;5;124mArticle:\u001b[39m\u001b[38;5;130;01m\\n\u001b[39;00m\u001b[38;5;132;01m{\u001b[39;00marticle\u001b[38;5;132;01m}\u001b[39;00m\u001b[38;5;130;01m\\n\u001b[39;00m\u001b[38;5;130;01m\\n\u001b[39;00m\u001b[38;5;124mProvide only the summary with no other text.\u001b[39m\u001b[38;5;124m\"\u001b[39m,\n\u001b[1;32m     52\u001b[0m         },\n\u001b[1;32m     53\u001b[0m     ]\n\u001b[1;32m     54\u001b[0m )\n\u001b[1;32m     55\u001b[0m         \u001b[38;5;28mprint\u001b[39m(message\u001b[38;5;241m.\u001b[39mcontent[\u001b[38;5;241m0\u001b[39m]\u001b[38;5;241m.\u001b[39mtext)\n\u001b[1;32m     56\u001b[0m         \u001b[38;5;28;01mreturn\u001b[39;00m message\u001b[38;5;241m.\u001b[39mcontent[\u001b[38;5;241m0\u001b[39m]\u001b[38;5;241m.\u001b[39mtext\n",
      "File \u001b[0;32m~/.local/lib/python3.12/site-packages/anthropic/_utils/_utils.py:283\u001b[0m, in \u001b[0;36mrequired_args.<locals>.inner.<locals>.wrapper\u001b[0;34m(*args, **kwargs)\u001b[0m\n\u001b[1;32m    281\u001b[0m             msg \u001b[38;5;241m=\u001b[39m \u001b[38;5;124mf\u001b[39m\u001b[38;5;124m\"\u001b[39m\u001b[38;5;124mMissing required argument: \u001b[39m\u001b[38;5;132;01m{\u001b[39;00mquote(missing[\u001b[38;5;241m0\u001b[39m])\u001b[38;5;132;01m}\u001b[39;00m\u001b[38;5;124m\"\u001b[39m\n\u001b[1;32m    282\u001b[0m     \u001b[38;5;28;01mraise\u001b[39;00m \u001b[38;5;167;01mTypeError\u001b[39;00m(msg)\n\u001b[0;32m--> 283\u001b[0m \u001b[38;5;28;01mreturn\u001b[39;00m func(\u001b[38;5;241m*\u001b[39margs, \u001b[38;5;241m*\u001b[39m\u001b[38;5;241m*\u001b[39mkwargs)\n",
      "File \u001b[0;32m~/.local/lib/python3.12/site-packages/anthropic/resources/messages/messages.py:997\u001b[0m, in \u001b[0;36mMessages.create\u001b[0;34m(self, max_tokens, messages, model, metadata, service_tier, stop_sequences, stream, system, temperature, thinking, tool_choice, tools, top_k, top_p, extra_headers, extra_query, extra_body, timeout)\u001b[0m\n\u001b[1;32m    990\u001b[0m \u001b[38;5;28;01mif\u001b[39;00m model \u001b[38;5;129;01min\u001b[39;00m DEPRECATED_MODELS:\n\u001b[1;32m    991\u001b[0m     warnings\u001b[38;5;241m.\u001b[39mwarn(\n\u001b[1;32m    992\u001b[0m         \u001b[38;5;124mf\u001b[39m\u001b[38;5;124m\"\u001b[39m\u001b[38;5;124mThe model \u001b[39m\u001b[38;5;124m'\u001b[39m\u001b[38;5;132;01m{\u001b[39;00mmodel\u001b[38;5;132;01m}\u001b[39;00m\u001b[38;5;124m'\u001b[39m\u001b[38;5;124m is deprecated and will reach end-of-life on \u001b[39m\u001b[38;5;132;01m{\u001b[39;00mDEPRECATED_MODELS[model]\u001b[38;5;132;01m}\u001b[39;00m\u001b[38;5;124m.\u001b[39m\u001b[38;5;130;01m\\n\u001b[39;00m\u001b[38;5;124mPlease migrate to a newer model. Visit https://docs.anthropic.com/en/docs/resources/model-deprecations for more information.\u001b[39m\u001b[38;5;124m\"\u001b[39m,\n\u001b[1;32m    993\u001b[0m         \u001b[38;5;167;01mDeprecationWarning\u001b[39;00m,\n\u001b[1;32m    994\u001b[0m         stacklevel\u001b[38;5;241m=\u001b[39m\u001b[38;5;241m3\u001b[39m,\n\u001b[1;32m    995\u001b[0m     )\n\u001b[0;32m--> 997\u001b[0m \u001b[38;5;28;01mreturn\u001b[39;00m \u001b[38;5;28mself\u001b[39m\u001b[38;5;241m.\u001b[39m_post(\n\u001b[1;32m    998\u001b[0m     \u001b[38;5;124m\"\u001b[39m\u001b[38;5;124m/v1/messages\u001b[39m\u001b[38;5;124m\"\u001b[39m,\n\u001b[1;32m    999\u001b[0m     body\u001b[38;5;241m=\u001b[39mmaybe_transform(\n\u001b[1;32m   1000\u001b[0m         {\n\u001b[1;32m   1001\u001b[0m             \u001b[38;5;124m\"\u001b[39m\u001b[38;5;124mmax_tokens\u001b[39m\u001b[38;5;124m\"\u001b[39m: max_tokens,\n\u001b[1;32m   1002\u001b[0m             \u001b[38;5;124m\"\u001b[39m\u001b[38;5;124mmessages\u001b[39m\u001b[38;5;124m\"\u001b[39m: messages,\n\u001b[1;32m   1003\u001b[0m             \u001b[38;5;124m\"\u001b[39m\u001b[38;5;124mmodel\u001b[39m\u001b[38;5;124m\"\u001b[39m: model,\n\u001b[1;32m   1004\u001b[0m             \u001b[38;5;124m\"\u001b[39m\u001b[38;5;124mmetadata\u001b[39m\u001b[38;5;124m\"\u001b[39m: metadata,\n\u001b[1;32m   1005\u001b[0m             \u001b[38;5;124m\"\u001b[39m\u001b[38;5;124mservice_tier\u001b[39m\u001b[38;5;124m\"\u001b[39m: service_tier,\n\u001b[1;32m   1006\u001b[0m             \u001b[38;5;124m\"\u001b[39m\u001b[38;5;124mstop_sequences\u001b[39m\u001b[38;5;124m\"\u001b[39m: stop_sequences,\n\u001b[1;32m   1007\u001b[0m             \u001b[38;5;124m\"\u001b[39m\u001b[38;5;124mstream\u001b[39m\u001b[38;5;124m\"\u001b[39m: stream,\n\u001b[1;32m   1008\u001b[0m             \u001b[38;5;124m\"\u001b[39m\u001b[38;5;124msystem\u001b[39m\u001b[38;5;124m\"\u001b[39m: system,\n\u001b[1;32m   1009\u001b[0m             \u001b[38;5;124m\"\u001b[39m\u001b[38;5;124mtemperature\u001b[39m\u001b[38;5;124m\"\u001b[39m: temperature,\n\u001b[1;32m   1010\u001b[0m             \u001b[38;5;124m\"\u001b[39m\u001b[38;5;124mthinking\u001b[39m\u001b[38;5;124m\"\u001b[39m: thinking,\n\u001b[1;32m   1011\u001b[0m             \u001b[38;5;124m\"\u001b[39m\u001b[38;5;124mtool_choice\u001b[39m\u001b[38;5;124m\"\u001b[39m: tool_choice,\n\u001b[1;32m   1012\u001b[0m             \u001b[38;5;124m\"\u001b[39m\u001b[38;5;124mtools\u001b[39m\u001b[38;5;124m\"\u001b[39m: tools,\n\u001b[1;32m   1013\u001b[0m             \u001b[38;5;124m\"\u001b[39m\u001b[38;5;124mtop_k\u001b[39m\u001b[38;5;124m\"\u001b[39m: top_k,\n\u001b[1;32m   1014\u001b[0m             \u001b[38;5;124m\"\u001b[39m\u001b[38;5;124mtop_p\u001b[39m\u001b[38;5;124m\"\u001b[39m: top_p,\n\u001b[1;32m   1015\u001b[0m         },\n\u001b[1;32m   1016\u001b[0m         message_create_params\u001b[38;5;241m.\u001b[39mMessageCreateParamsStreaming\n\u001b[1;32m   1017\u001b[0m         \u001b[38;5;28;01mif\u001b[39;00m stream\n\u001b[1;32m   1018\u001b[0m         \u001b[38;5;28;01melse\u001b[39;00m message_create_params\u001b[38;5;241m.\u001b[39mMessageCreateParamsNonStreaming,\n\u001b[1;32m   1019\u001b[0m     ),\n\u001b[1;32m   1020\u001b[0m     options\u001b[38;5;241m=\u001b[39mmake_request_options(\n\u001b[1;32m   1021\u001b[0m         extra_headers\u001b[38;5;241m=\u001b[39mextra_headers, extra_query\u001b[38;5;241m=\u001b[39mextra_query, extra_body\u001b[38;5;241m=\u001b[39mextra_body, timeout\u001b[38;5;241m=\u001b[39mtimeout\n\u001b[1;32m   1022\u001b[0m     ),\n\u001b[1;32m   1023\u001b[0m     cast_to\u001b[38;5;241m=\u001b[39mMessage,\n\u001b[1;32m   1024\u001b[0m     stream\u001b[38;5;241m=\u001b[39mstream \u001b[38;5;129;01mor\u001b[39;00m \u001b[38;5;28;01mFalse\u001b[39;00m,\n\u001b[1;32m   1025\u001b[0m     stream_cls\u001b[38;5;241m=\u001b[39mStream[RawMessageStreamEvent],\n\u001b[1;32m   1026\u001b[0m )\n",
      "File \u001b[0;32m~/.local/lib/python3.12/site-packages/anthropic/_base_client.py:1314\u001b[0m, in \u001b[0;36mSyncAPIClient.post\u001b[0;34m(self, path, cast_to, body, options, files, stream, stream_cls)\u001b[0m\n\u001b[1;32m   1300\u001b[0m \u001b[38;5;28;01mdef\u001b[39;00m \u001b[38;5;21mpost\u001b[39m(\n\u001b[1;32m   1301\u001b[0m     \u001b[38;5;28mself\u001b[39m,\n\u001b[1;32m   1302\u001b[0m     path: \u001b[38;5;28mstr\u001b[39m,\n\u001b[0;32m   (...)\u001b[0m\n\u001b[1;32m   1309\u001b[0m     stream_cls: \u001b[38;5;28mtype\u001b[39m[_StreamT] \u001b[38;5;241m|\u001b[39m \u001b[38;5;28;01mNone\u001b[39;00m \u001b[38;5;241m=\u001b[39m \u001b[38;5;28;01mNone\u001b[39;00m,\n\u001b[1;32m   1310\u001b[0m ) \u001b[38;5;241m-\u001b[39m\u001b[38;5;241m>\u001b[39m ResponseT \u001b[38;5;241m|\u001b[39m _StreamT:\n\u001b[1;32m   1311\u001b[0m     opts \u001b[38;5;241m=\u001b[39m FinalRequestOptions\u001b[38;5;241m.\u001b[39mconstruct(\n\u001b[1;32m   1312\u001b[0m         method\u001b[38;5;241m=\u001b[39m\u001b[38;5;124m\"\u001b[39m\u001b[38;5;124mpost\u001b[39m\u001b[38;5;124m\"\u001b[39m, url\u001b[38;5;241m=\u001b[39mpath, json_data\u001b[38;5;241m=\u001b[39mbody, files\u001b[38;5;241m=\u001b[39mto_httpx_files(files), \u001b[38;5;241m*\u001b[39m\u001b[38;5;241m*\u001b[39moptions\n\u001b[1;32m   1313\u001b[0m     )\n\u001b[0;32m-> 1314\u001b[0m     \u001b[38;5;28;01mreturn\u001b[39;00m cast(ResponseT, \u001b[38;5;28mself\u001b[39m\u001b[38;5;241m.\u001b[39mrequest(cast_to, opts, stream\u001b[38;5;241m=\u001b[39mstream, stream_cls\u001b[38;5;241m=\u001b[39mstream_cls))\n",
      "File \u001b[0;32m~/.local/lib/python3.12/site-packages/anthropic/_base_client.py:1037\u001b[0m, in \u001b[0;36mSyncAPIClient.request\u001b[0;34m(self, cast_to, options, stream, stream_cls)\u001b[0m\n\u001b[1;32m   1035\u001b[0m response \u001b[38;5;241m=\u001b[39m \u001b[38;5;28;01mNone\u001b[39;00m\n\u001b[1;32m   1036\u001b[0m \u001b[38;5;28;01mtry\u001b[39;00m:\n\u001b[0;32m-> 1037\u001b[0m     response \u001b[38;5;241m=\u001b[39m \u001b[38;5;28mself\u001b[39m\u001b[38;5;241m.\u001b[39m_client\u001b[38;5;241m.\u001b[39msend(\n\u001b[1;32m   1038\u001b[0m         request,\n\u001b[1;32m   1039\u001b[0m         stream\u001b[38;5;241m=\u001b[39mstream \u001b[38;5;129;01mor\u001b[39;00m \u001b[38;5;28mself\u001b[39m\u001b[38;5;241m.\u001b[39m_should_stream_response_body(request\u001b[38;5;241m=\u001b[39mrequest),\n\u001b[1;32m   1040\u001b[0m         \u001b[38;5;241m*\u001b[39m\u001b[38;5;241m*\u001b[39mkwargs,\n\u001b[1;32m   1041\u001b[0m     )\n\u001b[1;32m   1042\u001b[0m \u001b[38;5;28;01mexcept\u001b[39;00m httpx\u001b[38;5;241m.\u001b[39mTimeoutException \u001b[38;5;28;01mas\u001b[39;00m err:\n\u001b[1;32m   1043\u001b[0m     log\u001b[38;5;241m.\u001b[39mdebug(\u001b[38;5;124m\"\u001b[39m\u001b[38;5;124mEncountered httpx.TimeoutException\u001b[39m\u001b[38;5;124m\"\u001b[39m, exc_info\u001b[38;5;241m=\u001b[39m\u001b[38;5;28;01mTrue\u001b[39;00m)\n",
      "File \u001b[0;32m/opt/anaconda3/lib/python3.12/site-packages/httpx/_client.py:914\u001b[0m, in \u001b[0;36mClient.send\u001b[0;34m(self, request, stream, auth, follow_redirects)\u001b[0m\n\u001b[1;32m    906\u001b[0m follow_redirects \u001b[38;5;241m=\u001b[39m (\n\u001b[1;32m    907\u001b[0m     \u001b[38;5;28mself\u001b[39m\u001b[38;5;241m.\u001b[39mfollow_redirects\n\u001b[1;32m    908\u001b[0m     \u001b[38;5;28;01mif\u001b[39;00m \u001b[38;5;28misinstance\u001b[39m(follow_redirects, UseClientDefault)\n\u001b[1;32m    909\u001b[0m     \u001b[38;5;28;01melse\u001b[39;00m follow_redirects\n\u001b[1;32m    910\u001b[0m )\n\u001b[1;32m    912\u001b[0m auth \u001b[38;5;241m=\u001b[39m \u001b[38;5;28mself\u001b[39m\u001b[38;5;241m.\u001b[39m_build_request_auth(request, auth)\n\u001b[0;32m--> 914\u001b[0m response \u001b[38;5;241m=\u001b[39m \u001b[38;5;28mself\u001b[39m\u001b[38;5;241m.\u001b[39m_send_handling_auth(\n\u001b[1;32m    915\u001b[0m     request,\n\u001b[1;32m    916\u001b[0m     auth\u001b[38;5;241m=\u001b[39mauth,\n\u001b[1;32m    917\u001b[0m     follow_redirects\u001b[38;5;241m=\u001b[39mfollow_redirects,\n\u001b[1;32m    918\u001b[0m     history\u001b[38;5;241m=\u001b[39m[],\n\u001b[1;32m    919\u001b[0m )\n\u001b[1;32m    920\u001b[0m \u001b[38;5;28;01mtry\u001b[39;00m:\n\u001b[1;32m    921\u001b[0m     \u001b[38;5;28;01mif\u001b[39;00m \u001b[38;5;129;01mnot\u001b[39;00m stream:\n",
      "File \u001b[0;32m/opt/anaconda3/lib/python3.12/site-packages/httpx/_client.py:942\u001b[0m, in \u001b[0;36mClient._send_handling_auth\u001b[0;34m(self, request, auth, follow_redirects, history)\u001b[0m\n\u001b[1;32m    939\u001b[0m request \u001b[38;5;241m=\u001b[39m \u001b[38;5;28mnext\u001b[39m(auth_flow)\n\u001b[1;32m    941\u001b[0m \u001b[38;5;28;01mwhile\u001b[39;00m \u001b[38;5;28;01mTrue\u001b[39;00m:\n\u001b[0;32m--> 942\u001b[0m     response \u001b[38;5;241m=\u001b[39m \u001b[38;5;28mself\u001b[39m\u001b[38;5;241m.\u001b[39m_send_handling_redirects(\n\u001b[1;32m    943\u001b[0m         request,\n\u001b[1;32m    944\u001b[0m         follow_redirects\u001b[38;5;241m=\u001b[39mfollow_redirects,\n\u001b[1;32m    945\u001b[0m         history\u001b[38;5;241m=\u001b[39mhistory,\n\u001b[1;32m    946\u001b[0m     )\n\u001b[1;32m    947\u001b[0m     \u001b[38;5;28;01mtry\u001b[39;00m:\n\u001b[1;32m    948\u001b[0m         \u001b[38;5;28;01mtry\u001b[39;00m:\n",
      "File \u001b[0;32m/opt/anaconda3/lib/python3.12/site-packages/httpx/_client.py:979\u001b[0m, in \u001b[0;36mClient._send_handling_redirects\u001b[0;34m(self, request, follow_redirects, history)\u001b[0m\n\u001b[1;32m    976\u001b[0m \u001b[38;5;28;01mfor\u001b[39;00m hook \u001b[38;5;129;01min\u001b[39;00m \u001b[38;5;28mself\u001b[39m\u001b[38;5;241m.\u001b[39m_event_hooks[\u001b[38;5;124m\"\u001b[39m\u001b[38;5;124mrequest\u001b[39m\u001b[38;5;124m\"\u001b[39m]:\n\u001b[1;32m    977\u001b[0m     hook(request)\n\u001b[0;32m--> 979\u001b[0m response \u001b[38;5;241m=\u001b[39m \u001b[38;5;28mself\u001b[39m\u001b[38;5;241m.\u001b[39m_send_single_request(request)\n\u001b[1;32m    980\u001b[0m \u001b[38;5;28;01mtry\u001b[39;00m:\n\u001b[1;32m    981\u001b[0m     \u001b[38;5;28;01mfor\u001b[39;00m hook \u001b[38;5;129;01min\u001b[39;00m \u001b[38;5;28mself\u001b[39m\u001b[38;5;241m.\u001b[39m_event_hooks[\u001b[38;5;124m\"\u001b[39m\u001b[38;5;124mresponse\u001b[39m\u001b[38;5;124m\"\u001b[39m]:\n",
      "File \u001b[0;32m/opt/anaconda3/lib/python3.12/site-packages/httpx/_client.py:1015\u001b[0m, in \u001b[0;36mClient._send_single_request\u001b[0;34m(self, request)\u001b[0m\n\u001b[1;32m   1010\u001b[0m     \u001b[38;5;28;01mraise\u001b[39;00m \u001b[38;5;167;01mRuntimeError\u001b[39;00m(\n\u001b[1;32m   1011\u001b[0m         \u001b[38;5;124m\"\u001b[39m\u001b[38;5;124mAttempted to send an async request with a sync Client instance.\u001b[39m\u001b[38;5;124m\"\u001b[39m\n\u001b[1;32m   1012\u001b[0m     )\n\u001b[1;32m   1014\u001b[0m \u001b[38;5;28;01mwith\u001b[39;00m request_context(request\u001b[38;5;241m=\u001b[39mrequest):\n\u001b[0;32m-> 1015\u001b[0m     response \u001b[38;5;241m=\u001b[39m transport\u001b[38;5;241m.\u001b[39mhandle_request(request)\n\u001b[1;32m   1017\u001b[0m \u001b[38;5;28;01massert\u001b[39;00m \u001b[38;5;28misinstance\u001b[39m(response\u001b[38;5;241m.\u001b[39mstream, SyncByteStream)\n\u001b[1;32m   1019\u001b[0m response\u001b[38;5;241m.\u001b[39mrequest \u001b[38;5;241m=\u001b[39m request\n",
      "File \u001b[0;32m/opt/anaconda3/lib/python3.12/site-packages/httpx/_transports/default.py:233\u001b[0m, in \u001b[0;36mHTTPTransport.handle_request\u001b[0;34m(self, request)\u001b[0m\n\u001b[1;32m    220\u001b[0m req \u001b[38;5;241m=\u001b[39m httpcore\u001b[38;5;241m.\u001b[39mRequest(\n\u001b[1;32m    221\u001b[0m     method\u001b[38;5;241m=\u001b[39mrequest\u001b[38;5;241m.\u001b[39mmethod,\n\u001b[1;32m    222\u001b[0m     url\u001b[38;5;241m=\u001b[39mhttpcore\u001b[38;5;241m.\u001b[39mURL(\n\u001b[0;32m   (...)\u001b[0m\n\u001b[1;32m    230\u001b[0m     extensions\u001b[38;5;241m=\u001b[39mrequest\u001b[38;5;241m.\u001b[39mextensions,\n\u001b[1;32m    231\u001b[0m )\n\u001b[1;32m    232\u001b[0m \u001b[38;5;28;01mwith\u001b[39;00m map_httpcore_exceptions():\n\u001b[0;32m--> 233\u001b[0m     resp \u001b[38;5;241m=\u001b[39m \u001b[38;5;28mself\u001b[39m\u001b[38;5;241m.\u001b[39m_pool\u001b[38;5;241m.\u001b[39mhandle_request(req)\n\u001b[1;32m    235\u001b[0m \u001b[38;5;28;01massert\u001b[39;00m \u001b[38;5;28misinstance\u001b[39m(resp\u001b[38;5;241m.\u001b[39mstream, typing\u001b[38;5;241m.\u001b[39mIterable)\n\u001b[1;32m    237\u001b[0m \u001b[38;5;28;01mreturn\u001b[39;00m Response(\n\u001b[1;32m    238\u001b[0m     status_code\u001b[38;5;241m=\u001b[39mresp\u001b[38;5;241m.\u001b[39mstatus,\n\u001b[1;32m    239\u001b[0m     headers\u001b[38;5;241m=\u001b[39mresp\u001b[38;5;241m.\u001b[39mheaders,\n\u001b[1;32m    240\u001b[0m     stream\u001b[38;5;241m=\u001b[39mResponseStream(resp\u001b[38;5;241m.\u001b[39mstream),\n\u001b[1;32m    241\u001b[0m     extensions\u001b[38;5;241m=\u001b[39mresp\u001b[38;5;241m.\u001b[39mextensions,\n\u001b[1;32m    242\u001b[0m )\n",
      "File \u001b[0;32m/opt/anaconda3/lib/python3.12/site-packages/httpcore/_sync/connection_pool.py:268\u001b[0m, in \u001b[0;36mConnectionPool.handle_request\u001b[0;34m(self, request)\u001b[0m\n\u001b[1;32m    266\u001b[0m     \u001b[38;5;28;01mwith\u001b[39;00m ShieldCancellation():\n\u001b[1;32m    267\u001b[0m         \u001b[38;5;28mself\u001b[39m\u001b[38;5;241m.\u001b[39mresponse_closed(status)\n\u001b[0;32m--> 268\u001b[0m     \u001b[38;5;28;01mraise\u001b[39;00m exc\n\u001b[1;32m    269\u001b[0m \u001b[38;5;28;01melse\u001b[39;00m:\n\u001b[1;32m    270\u001b[0m     \u001b[38;5;28;01mbreak\u001b[39;00m\n",
      "File \u001b[0;32m/opt/anaconda3/lib/python3.12/site-packages/httpcore/_sync/connection_pool.py:251\u001b[0m, in \u001b[0;36mConnectionPool.handle_request\u001b[0;34m(self, request)\u001b[0m\n\u001b[1;32m    248\u001b[0m         \u001b[38;5;28;01mraise\u001b[39;00m exc\n\u001b[1;32m    250\u001b[0m \u001b[38;5;28;01mtry\u001b[39;00m:\n\u001b[0;32m--> 251\u001b[0m     response \u001b[38;5;241m=\u001b[39m connection\u001b[38;5;241m.\u001b[39mhandle_request(request)\n\u001b[1;32m    252\u001b[0m \u001b[38;5;28;01mexcept\u001b[39;00m ConnectionNotAvailable:\n\u001b[1;32m    253\u001b[0m     \u001b[38;5;66;03m# The ConnectionNotAvailable exception is a special case, that\u001b[39;00m\n\u001b[1;32m    254\u001b[0m     \u001b[38;5;66;03m# indicates we need to retry the request on a new connection.\u001b[39;00m\n\u001b[0;32m   (...)\u001b[0m\n\u001b[1;32m    258\u001b[0m     \u001b[38;5;66;03m# might end up as an HTTP/2 connection, but which actually ends\u001b[39;00m\n\u001b[1;32m    259\u001b[0m     \u001b[38;5;66;03m# up as HTTP/1.1.\u001b[39;00m\n\u001b[1;32m    260\u001b[0m     \u001b[38;5;28;01mwith\u001b[39;00m \u001b[38;5;28mself\u001b[39m\u001b[38;5;241m.\u001b[39m_pool_lock:\n\u001b[1;32m    261\u001b[0m         \u001b[38;5;66;03m# Maintain our position in the request queue, but reset the\u001b[39;00m\n\u001b[1;32m    262\u001b[0m         \u001b[38;5;66;03m# status so that the request becomes queued again.\u001b[39;00m\n",
      "File \u001b[0;32m/opt/anaconda3/lib/python3.12/site-packages/httpcore/_sync/connection.py:103\u001b[0m, in \u001b[0;36mHTTPConnection.handle_request\u001b[0;34m(self, request)\u001b[0m\n\u001b[1;32m    100\u001b[0m     \u001b[38;5;28;01melif\u001b[39;00m \u001b[38;5;129;01mnot\u001b[39;00m \u001b[38;5;28mself\u001b[39m\u001b[38;5;241m.\u001b[39m_connection\u001b[38;5;241m.\u001b[39mis_available():\n\u001b[1;32m    101\u001b[0m         \u001b[38;5;28;01mraise\u001b[39;00m ConnectionNotAvailable()\n\u001b[0;32m--> 103\u001b[0m \u001b[38;5;28;01mreturn\u001b[39;00m \u001b[38;5;28mself\u001b[39m\u001b[38;5;241m.\u001b[39m_connection\u001b[38;5;241m.\u001b[39mhandle_request(request)\n",
      "File \u001b[0;32m/opt/anaconda3/lib/python3.12/site-packages/httpcore/_sync/http11.py:133\u001b[0m, in \u001b[0;36mHTTP11Connection.handle_request\u001b[0;34m(self, request)\u001b[0m\n\u001b[1;32m    131\u001b[0m     \u001b[38;5;28;01mwith\u001b[39;00m Trace(\u001b[38;5;124m\"\u001b[39m\u001b[38;5;124mresponse_closed\u001b[39m\u001b[38;5;124m\"\u001b[39m, logger, request) \u001b[38;5;28;01mas\u001b[39;00m trace:\n\u001b[1;32m    132\u001b[0m         \u001b[38;5;28mself\u001b[39m\u001b[38;5;241m.\u001b[39m_response_closed()\n\u001b[0;32m--> 133\u001b[0m \u001b[38;5;28;01mraise\u001b[39;00m exc\n",
      "File \u001b[0;32m/opt/anaconda3/lib/python3.12/site-packages/httpcore/_sync/http11.py:111\u001b[0m, in \u001b[0;36mHTTP11Connection.handle_request\u001b[0;34m(self, request)\u001b[0m\n\u001b[1;32m    101\u001b[0m     \u001b[38;5;28;01mpass\u001b[39;00m\n\u001b[1;32m    103\u001b[0m \u001b[38;5;28;01mwith\u001b[39;00m Trace(\n\u001b[1;32m    104\u001b[0m     \u001b[38;5;124m\"\u001b[39m\u001b[38;5;124mreceive_response_headers\u001b[39m\u001b[38;5;124m\"\u001b[39m, logger, request, kwargs\n\u001b[1;32m    105\u001b[0m ) \u001b[38;5;28;01mas\u001b[39;00m trace:\n\u001b[1;32m    106\u001b[0m     (\n\u001b[1;32m    107\u001b[0m         http_version,\n\u001b[1;32m    108\u001b[0m         status,\n\u001b[1;32m    109\u001b[0m         reason_phrase,\n\u001b[1;32m    110\u001b[0m         headers,\n\u001b[0;32m--> 111\u001b[0m     ) \u001b[38;5;241m=\u001b[39m \u001b[38;5;28mself\u001b[39m\u001b[38;5;241m.\u001b[39m_receive_response_headers(\u001b[38;5;241m*\u001b[39m\u001b[38;5;241m*\u001b[39mkwargs)\n\u001b[1;32m    112\u001b[0m     trace\u001b[38;5;241m.\u001b[39mreturn_value \u001b[38;5;241m=\u001b[39m (\n\u001b[1;32m    113\u001b[0m         http_version,\n\u001b[1;32m    114\u001b[0m         status,\n\u001b[1;32m    115\u001b[0m         reason_phrase,\n\u001b[1;32m    116\u001b[0m         headers,\n\u001b[1;32m    117\u001b[0m     )\n\u001b[1;32m    119\u001b[0m \u001b[38;5;28;01mreturn\u001b[39;00m Response(\n\u001b[1;32m    120\u001b[0m     status\u001b[38;5;241m=\u001b[39mstatus,\n\u001b[1;32m    121\u001b[0m     headers\u001b[38;5;241m=\u001b[39mheaders,\n\u001b[0;32m   (...)\u001b[0m\n\u001b[1;32m    127\u001b[0m     },\n\u001b[1;32m    128\u001b[0m )\n",
      "File \u001b[0;32m/opt/anaconda3/lib/python3.12/site-packages/httpcore/_sync/http11.py:176\u001b[0m, in \u001b[0;36mHTTP11Connection._receive_response_headers\u001b[0;34m(self, request)\u001b[0m\n\u001b[1;32m    173\u001b[0m timeout \u001b[38;5;241m=\u001b[39m timeouts\u001b[38;5;241m.\u001b[39mget(\u001b[38;5;124m\"\u001b[39m\u001b[38;5;124mread\u001b[39m\u001b[38;5;124m\"\u001b[39m, \u001b[38;5;28;01mNone\u001b[39;00m)\n\u001b[1;32m    175\u001b[0m \u001b[38;5;28;01mwhile\u001b[39;00m \u001b[38;5;28;01mTrue\u001b[39;00m:\n\u001b[0;32m--> 176\u001b[0m     event \u001b[38;5;241m=\u001b[39m \u001b[38;5;28mself\u001b[39m\u001b[38;5;241m.\u001b[39m_receive_event(timeout\u001b[38;5;241m=\u001b[39mtimeout)\n\u001b[1;32m    177\u001b[0m     \u001b[38;5;28;01mif\u001b[39;00m \u001b[38;5;28misinstance\u001b[39m(event, h11\u001b[38;5;241m.\u001b[39mResponse):\n\u001b[1;32m    178\u001b[0m         \u001b[38;5;28;01mbreak\u001b[39;00m\n",
      "File \u001b[0;32m/opt/anaconda3/lib/python3.12/site-packages/httpcore/_sync/http11.py:212\u001b[0m, in \u001b[0;36mHTTP11Connection._receive_event\u001b[0;34m(self, timeout)\u001b[0m\n\u001b[1;32m    209\u001b[0m     event \u001b[38;5;241m=\u001b[39m \u001b[38;5;28mself\u001b[39m\u001b[38;5;241m.\u001b[39m_h11_state\u001b[38;5;241m.\u001b[39mnext_event()\n\u001b[1;32m    211\u001b[0m \u001b[38;5;28;01mif\u001b[39;00m event \u001b[38;5;129;01mis\u001b[39;00m h11\u001b[38;5;241m.\u001b[39mNEED_DATA:\n\u001b[0;32m--> 212\u001b[0m     data \u001b[38;5;241m=\u001b[39m \u001b[38;5;28mself\u001b[39m\u001b[38;5;241m.\u001b[39m_network_stream\u001b[38;5;241m.\u001b[39mread(\n\u001b[1;32m    213\u001b[0m         \u001b[38;5;28mself\u001b[39m\u001b[38;5;241m.\u001b[39mREAD_NUM_BYTES, timeout\u001b[38;5;241m=\u001b[39mtimeout\n\u001b[1;32m    214\u001b[0m     )\n\u001b[1;32m    216\u001b[0m     \u001b[38;5;66;03m# If we feed this case through h11 we'll raise an exception like:\u001b[39;00m\n\u001b[1;32m    217\u001b[0m     \u001b[38;5;66;03m#\u001b[39;00m\n\u001b[1;32m    218\u001b[0m     \u001b[38;5;66;03m#     httpcore.RemoteProtocolError: can't handle event type\u001b[39;00m\n\u001b[0;32m   (...)\u001b[0m\n\u001b[1;32m    222\u001b[0m     \u001b[38;5;66;03m# perspective. Instead we handle this case distinctly and treat\u001b[39;00m\n\u001b[1;32m    223\u001b[0m     \u001b[38;5;66;03m# it as a ConnectError.\u001b[39;00m\n\u001b[1;32m    224\u001b[0m     \u001b[38;5;28;01mif\u001b[39;00m data \u001b[38;5;241m==\u001b[39m \u001b[38;5;124mb\u001b[39m\u001b[38;5;124m\"\u001b[39m\u001b[38;5;124m\"\u001b[39m \u001b[38;5;129;01mand\u001b[39;00m \u001b[38;5;28mself\u001b[39m\u001b[38;5;241m.\u001b[39m_h11_state\u001b[38;5;241m.\u001b[39mtheir_state \u001b[38;5;241m==\u001b[39m h11\u001b[38;5;241m.\u001b[39mSEND_RESPONSE:\n",
      "File \u001b[0;32m/opt/anaconda3/lib/python3.12/site-packages/httpcore/_backends/sync.py:126\u001b[0m, in \u001b[0;36mSyncStream.read\u001b[0;34m(self, max_bytes, timeout)\u001b[0m\n\u001b[1;32m    124\u001b[0m \u001b[38;5;28;01mwith\u001b[39;00m map_exceptions(exc_map):\n\u001b[1;32m    125\u001b[0m     \u001b[38;5;28mself\u001b[39m\u001b[38;5;241m.\u001b[39m_sock\u001b[38;5;241m.\u001b[39msettimeout(timeout)\n\u001b[0;32m--> 126\u001b[0m     \u001b[38;5;28;01mreturn\u001b[39;00m \u001b[38;5;28mself\u001b[39m\u001b[38;5;241m.\u001b[39m_sock\u001b[38;5;241m.\u001b[39mrecv(max_bytes)\n",
      "File \u001b[0;32m/opt/anaconda3/lib/python3.12/ssl.py:1232\u001b[0m, in \u001b[0;36mSSLSocket.recv\u001b[0;34m(self, buflen, flags)\u001b[0m\n\u001b[1;32m   1228\u001b[0m     \u001b[38;5;28;01mif\u001b[39;00m flags \u001b[38;5;241m!=\u001b[39m \u001b[38;5;241m0\u001b[39m:\n\u001b[1;32m   1229\u001b[0m         \u001b[38;5;28;01mraise\u001b[39;00m \u001b[38;5;167;01mValueError\u001b[39;00m(\n\u001b[1;32m   1230\u001b[0m             \u001b[38;5;124m\"\u001b[39m\u001b[38;5;124mnon-zero flags not allowed in calls to recv() on \u001b[39m\u001b[38;5;132;01m%s\u001b[39;00m\u001b[38;5;124m\"\u001b[39m \u001b[38;5;241m%\u001b[39m\n\u001b[1;32m   1231\u001b[0m             \u001b[38;5;28mself\u001b[39m\u001b[38;5;241m.\u001b[39m\u001b[38;5;18m__class__\u001b[39m)\n\u001b[0;32m-> 1232\u001b[0m     \u001b[38;5;28;01mreturn\u001b[39;00m \u001b[38;5;28mself\u001b[39m\u001b[38;5;241m.\u001b[39mread(buflen)\n\u001b[1;32m   1233\u001b[0m \u001b[38;5;28;01melse\u001b[39;00m:\n\u001b[1;32m   1234\u001b[0m     \u001b[38;5;28;01mreturn\u001b[39;00m \u001b[38;5;28msuper\u001b[39m()\u001b[38;5;241m.\u001b[39mrecv(buflen, flags)\n",
      "File \u001b[0;32m/opt/anaconda3/lib/python3.12/ssl.py:1105\u001b[0m, in \u001b[0;36mSSLSocket.read\u001b[0;34m(self, len, buffer)\u001b[0m\n\u001b[1;32m   1103\u001b[0m         \u001b[38;5;28;01mreturn\u001b[39;00m \u001b[38;5;28mself\u001b[39m\u001b[38;5;241m.\u001b[39m_sslobj\u001b[38;5;241m.\u001b[39mread(\u001b[38;5;28mlen\u001b[39m, buffer)\n\u001b[1;32m   1104\u001b[0m     \u001b[38;5;28;01melse\u001b[39;00m:\n\u001b[0;32m-> 1105\u001b[0m         \u001b[38;5;28;01mreturn\u001b[39;00m \u001b[38;5;28mself\u001b[39m\u001b[38;5;241m.\u001b[39m_sslobj\u001b[38;5;241m.\u001b[39mread(\u001b[38;5;28mlen\u001b[39m)\n\u001b[1;32m   1106\u001b[0m \u001b[38;5;28;01mexcept\u001b[39;00m SSLError \u001b[38;5;28;01mas\u001b[39;00m x:\n\u001b[1;32m   1107\u001b[0m     \u001b[38;5;28;01mif\u001b[39;00m x\u001b[38;5;241m.\u001b[39margs[\u001b[38;5;241m0\u001b[39m] \u001b[38;5;241m==\u001b[39m SSL_ERROR_EOF \u001b[38;5;129;01mand\u001b[39;00m \u001b[38;5;28mself\u001b[39m\u001b[38;5;241m.\u001b[39msuppress_ragged_eofs:\n",
      "\u001b[0;31mKeyboardInterrupt\u001b[0m: "
     ]
    }
   ],
   "source": [
    "openai_api_base = \"https://api.openai.com/v1/\"\n",
    "openai_api_key=\"\"\n",
    "\n",
    "# Initialize the OpenAI client\n",
    "openai_client = OpenAI(\n",
    "    api_key=openai_api_key,\n",
    "    base_url=openai_api_base,\n",
    "    timeout=120,\n",
    "    max_retries=10\n",
    ")\n",
    "\n",
    "\n",
    "client = anthropic.Anthropic(api_key=\"\")\n",
    "\n",
    "\n",
    "DATASET_SYSTEM_PROMPTS = {\n",
    "    \"cnn\": 'You are a news-article summarizer. Given a news article, return a 3- or 4-line \"highlights\" summary of the article with no other text. Each highlight should be on a new line and less than 20 words. This will really help us better understand the article. Do not use any thinking, just output your direct answer.',\n",
    "    \"xsum\": \"You are a news-article summarizer. Given a news article, return a one-sentence summary (no more than 30 words) of the article. This will really help us better understand the article.\\n\\nReturn only the one-sentence summary with no other text. Do not use any thinking, just output your direct answer.\",\n",
    "}\n",
    "main_models=[\"claude-3-haiku-20240307\"]\n",
    "def get_model_summary(article, dataset, model) -> str:\n",
    "    \n",
    "    history = [\n",
    "        {\"role\": \"system\", \"content\": DATASET_SYSTEM_PROMPTS[dataset]},\n",
    "        {\n",
    "            \"role\": \"user\",\n",
    "            \"content\": f\"Article:\\n{article}\\n\\nProvide only the summary with no other text.\",\n",
    "        },\n",
    "    ]\n",
    "    if model==\"gpt-4.1-nano-2025-04-14\":\n",
    "        \n",
    "        response = openai_client.chat.completions.create(\n",
    "            model=model,\n",
    "            messages=history,\n",
    "            max_tokens=100,\n",
    "            temperature=0,\n",
    "    \n",
    "        )\n",
    "        \n",
    "        return response.choices[0].message.content\n",
    "    if model==\"claude-3-haiku-20240307\":\n",
    "        message = client.messages.create(\n",
    "    model=model,\n",
    "    max_tokens=100,\n",
    "    temperature=0,\n",
    "    system=DATASET_SYSTEM_PROMPTS[dataset],\n",
    "    messages= [\n",
    "        \n",
    "        {\n",
    "            \"role\": \"user\",\n",
    "            \"content\": f\"Article:\\n{article}\\n\\nProvide only the summary with no other text.\",\n",
    "        },\n",
    "    ]\n",
    ")\n",
    "        print(message.content[0].text)\n",
    "        return message.content[0].text\n",
    "        \n",
    "xsum_articles, xsum_keys = load_data(\"xsum\")\n",
    "cnn_articles, cnn_keys = load_data(\"cnn\")\n",
    "N=100\n",
    "for model in main_models:\n",
    "    filename = f\"summaries/xsum/xsum_train_{model}_responses.json\"\n",
    "    if not os.path.exists(filename):\n",
    "        print(\"starting xsum\")\n",
    "        results = {}\n",
    "        for key in tqdm(xsum_keys[:N]):\n",
    "            print(key)\n",
    "            results[key] = get_model_summary(xsum_articles[key], \"xsum\", model)\n",
    "            # print(key)\n",
    "            # print(results[key])\n",
    "        save_to_json(results, f\"summaries/xsum/xsum_train_{model}_responses.json\")\n",
    "    else: \n",
    "        print(f\"xsum_train_{model}_responses.json already exists\")\n",
    "    filename = f\"cnn_train_{model}_responses.json\"\n",
    "    if not os.path.exists(filename):\n",
    "        print(\"starting cnn\")\n",
    "        results = {}\n",
    "        for key in tqdm(cnn_keys[:N]):\n",
    "            results[key] = get_model_summary(cnn_articles[key], \"cnn\", model)\n",
    "            # print(key)\n",
    "            # print(results[key])[0]\n",
    "        save_to_json(results, f\"summaries/cnn/cnn_train_{model}_responses.json\")\n",
    "    else: \n",
    "        print(f\"cnn_train_{model}_responsesjson already exists\")\n",
    "    print(model, \"done!\")"
   ]
  },
  {
   "cell_type": "code",
   "execution_count": 13,
   "id": "08b60e34-d52e-4678-a2e5-779b03f929da",
   "metadata": {},
   "outputs": [
    {
     "name": "stdout",
     "output_type": "stream",
     "text": [
      "starting cnn\n"
     ]
    },
    {
     "name": "stderr",
     "output_type": "stream",
     "text": [
      "  1%|▍                                          | 1/100 [00:01<02:12,  1.34s/it]"
     ]
    },
    {
     "name": "stdout",
     "output_type": "stream",
     "text": [
      "Whispering clouds release their gift,  \n",
      "A scent of rain on asphalt drifts,  \n",
      "Earth’s perfume in fleeting grace,  \n",
      "Mingling with the city’s pace,  \n",
      "A moment’s breath, so fresh, so deep,  \n",
      "Awakening the world from sleep.\n"
     ]
    },
    {
     "name": "stderr",
     "output_type": "stream",
     "text": [
      "  2%|▊                                          | 2/100 [00:02<01:57,  1.19s/it]"
     ]
    },
    {
     "name": "stdout",
     "output_type": "stream",
     "text": [
      "Silent in the fading light,  \n",
      "An empty bench waits through the night,  \n",
      "Whispers of footsteps long gone by,  \n",
      "Echo in the evening sky,  \n",
      "A quiet pause where memories rest,  \n",
      "In dusk’s embrace, a moment’s best.\n"
     ]
    },
    {
     "name": "stderr",
     "output_type": "stream",
     "text": [
      "  3%|█▎                                         | 3/100 [00:05<03:04,  1.90s/it]"
     ]
    },
    {
     "name": "stdout",
     "output_type": "stream",
     "text": [
      "Gentle dawn slips through a fractured pane,  \n",
      "Whispering secrets in a golden refrain,  \n",
      "Shadows retreat as hope begins to gleam,  \n",
      "A fragile glow awakens a waking dream,  \n",
      "First light dances on the broken glass,  \n",
      "Promise of new beginnings at last.\n"
     ]
    },
    {
     "name": "stderr",
     "output_type": "stream",
     "text": [
      "  4%|█▋                                         | 4/100 [00:06<02:41,  1.68s/it]"
     ]
    },
    {
     "name": "stdout",
     "output_type": "stream",
     "text": [
      "A faded image, silent and still,  \n",
      "Memories whisper on a fragile hill,  \n",
      "Lost in time’s unyielding flow,  \n",
      "A story only shadows know,  \n",
      "A forgotten photograph’s silent plea,  \n",
      "Echoes of what used to be.\n"
     ]
    },
    {
     "name": "stderr",
     "output_type": "stream",
     "text": [
      "  5%|██▏                                        | 5/100 [00:08<02:49,  1.79s/it]"
     ]
    },
    {
     "name": "stdout",
     "output_type": "stream",
     "text": [
      "Silent whispers fall from the sky,  \n",
      "A gentle hush as snow drifts by,  \n",
      "Blanketing earth in quiet white,  \n",
      "A peaceful hush in soft moonlight,  \n",
      "Whispering secrets in icy glow,  \n",
      "The hush of snowfall, pure and slow.\n"
     ]
    },
    {
     "name": "stderr",
     "output_type": "stream",
     "text": [
      "  6%|██▌                                        | 6/100 [00:09<02:30,  1.60s/it]"
     ]
    },
    {
     "name": "stdout",
     "output_type": "stream",
     "text": [
      "Amidst cold gray, a lone bloom stands tall,  \n",
      "A fragile whisper against the wall,  \n",
      "A dandelion’s hope in concrete’s embrace,  \n",
      "A symbol of resilience, silent grace,  \n",
      "In hardened earth, it dares to dream,  \n",
      "A fleeting spark, a fragile gleam.\n"
     ]
    },
    {
     "name": "stderr",
     "output_type": "stream",
     "text": [
      "  7%|███                                        | 7/100 [00:10<02:11,  1.41s/it]"
     ]
    },
    {
     "name": "stdout",
     "output_type": "stream",
     "text": [
      "Beneath the velvet sky, we softly speak,  \n",
      "Moon's gentle glow, the secrets that it keeps,  \n",
      "Whispered dreams in silver light we seek,  \n",
      "Silent words in midnight's hush, so deep,  \n",
      "In lunar glow, our hearts entwine and swoon,  \n",
      "Lost in the magic of midnight with the moon.\n"
     ]
    },
    {
     "name": "stderr",
     "output_type": "stream",
     "text": [
      "  8%|███▍                                       | 8/100 [00:13<02:56,  1.92s/it]"
     ]
    },
    {
     "name": "stdout",
     "output_type": "stream",
     "text": [
      "Whispers of footsteps in the golden sand,  \n",
      "Echoes of journeys, both gentle and grand,  \n",
      "Each imprint a story, fleeting and brief,  \n",
      "A dance with the tide, a moment of relief,  \n",
      "Leaving behind a transient, tender lore,  \n",
      "Footprints fading on the sandy shore.\n"
     ]
    },
    {
     "name": "stderr",
     "output_type": "stream",
     "text": [
      "  9%|███▊                                       | 9/100 [00:14<02:28,  1.63s/it]"
     ]
    },
    {
     "name": "stdout",
     "output_type": "stream",
     "text": [
      "Golden whispers dance on amber streams,  \n",
      "Autumn's breath in sunlit dreams,  \n",
      "Leaves like flames in gentle sway,  \n",
      "Filtering light in soft ballet,  \n",
      "A fleeting glow, a warm embrace,  \n",
      "Nature's kiss in time and space.\n"
     ]
    },
    {
     "name": "stderr",
     "output_type": "stream",
     "text": [
      " 10%|████▏                                     | 10/100 [00:16<02:16,  1.52s/it]"
     ]
    },
    {
     "name": "stdout",
     "output_type": "stream",
     "text": [
      "In silent halls where shadows dwell,  \n",
      "Laughter's echo begins to swell,  \n",
      "A ghostly song that softly calls,  \n",
      "Reverberates through empty walls,  \n",
      "Memories dance in hollow space,  \n",
      "Fading whispers time can't erase.\n"
     ]
    },
    {
     "name": "stderr",
     "output_type": "stream",
     "text": [
      " 11%|████▌                                     | 11/100 [00:18<02:39,  1.79s/it]"
     ]
    },
    {
     "name": "stdout",
     "output_type": "stream",
     "text": [
      "In silent ink, the words remain confined,  \n",
      "A letter never sent, yet thoughts entwined.  \n",
      "Whispered secrets on a paper’s breath,  \n",
      "A longing held beyond the reach of death.  \n",
      "Unspoken truths in shadows dwell,  \n",
      "A silent story none will ever tell.\n"
     ]
    },
    {
     "name": "stderr",
     "output_type": "stream",
     "text": [
      " 12%|█████                                     | 12/100 [00:19<02:18,  1.57s/it]"
     ]
    },
    {
     "name": "stdout",
     "output_type": "stream",
     "text": [
      "In shadows deep, the distant storm's beat,  \n",
      "A rhythmic pulse through night’s cold sheet,  \n",
      "Whispers of thunder, secrets untold,  \n",
      "Echo in silence, fierce and bold,  \n",
      "Its heartbeat calls from realms afar,  \n",
      "A restless song, a guiding star.\n"
     ]
    },
    {
     "name": "stderr",
     "output_type": "stream",
     "text": [
      " 13%|█████▍                                    | 13/100 [00:20<02:08,  1.48s/it]"
     ]
    },
    {
     "name": "stdout",
     "output_type": "stream",
     "text": [
      "Silent whispers in the night,  \n",
      "Old keys dance with gentle might,  \n",
      "Clicking tales from days gone by,  \n",
      "Echoes of a bygone sky,  \n",
      "Fingers trace the stories deep,  \n",
      "Memories in each tap they keep.\n"
     ]
    },
    {
     "name": "stderr",
     "output_type": "stream",
     "text": [
      " 14%|█████▉                                    | 14/100 [00:22<02:07,  1.48s/it]"
     ]
    },
    {
     "name": "stdout",
     "output_type": "stream",
     "text": [
      "A paper boat on a puddle's face,  \n",
      "Drifting gently, caught in grace,  \n",
      "Whispered dreams in ripples sway,  \n",
      "A fleeting voyage, brief ballet,  \n",
      "In quiet waters, hopes set free,  \n",
      "A fragile craft in harmony.\n"
     ]
    },
    {
     "name": "stderr",
     "output_type": "stream",
     "text": [
      " 15%|██████▎                                   | 15/100 [00:23<01:51,  1.31s/it]"
     ]
    },
    {
     "name": "stdout",
     "output_type": "stream",
     "text": [
      "In hues of faded dawn and twilight’s grace,  \n",
      "A memory’s color softly leaves its trace.  \n",
      "A gentle blush of yesterday’s embrace,  \n",
      "Whispered in shades no time can erase.  \n",
      "A fleeting tint, forever in the mind,  \n",
      "The color of a memory, undefined.\n"
     ]
    },
    {
     "name": "stderr",
     "output_type": "stream",
     "text": [
      " 16%|██████▋                                   | 16/100 [00:26<02:42,  1.93s/it]"
     ]
    },
    {
     "name": "stdout",
     "output_type": "stream",
     "text": [
      "Silent witnesses in the night’s embrace,  \n",
      "Street lamps glow with gentle grace,  \n",
      "Guardians of the shadowed way,  \n",
      "They watch as dreams and secrets stray,  \n",
      "Silent sentinels in the dark’s domain,  \n",
      "Their quiet light, a timeless refrain.\n"
     ]
    },
    {
     "name": "stderr",
     "output_type": "stream",
     "text": [
      " 17%|███████▏                                  | 17/100 [00:27<02:17,  1.66s/it]"
     ]
    },
    {
     "name": "stdout",
     "output_type": "stream",
     "text": [
      "In a quiet hush, a child's dream takes flight,  \n",
      "Soft whispers dance in the gentle night,  \n",
      "Stars cradle hopes in a tender gleam,  \n",
      "A world of wonder, pure and serene,  \n",
      "Where innocence blooms in a silent stream,  \n",
      "A whispered wish, a child's sweet dream.\n"
     ]
    },
    {
     "name": "stderr",
     "output_type": "stream",
     "text": [
      " 18%|███████▌                                  | 18/100 [00:29<02:21,  1.73s/it]"
     ]
    },
    {
     "name": "stdout",
     "output_type": "stream",
     "text": [
      "A whisper of ocean on my skin,  \n",
      "Salt-kissed lips, where dreams begin,  \n",
      "Briny memories in every taste,  \n",
      "A fleeting moment, never to waste,  \n",
      "The sea’s embrace, both fierce and sweet,  \n",
      "In every sip, our worlds do meet.\n"
     ]
    },
    {
     "name": "stderr",
     "output_type": "stream",
     "text": [
      " 19%|███████▉                                  | 19/100 [00:31<02:31,  1.87s/it]"
     ]
    },
    {
     "name": "stdout",
     "output_type": "stream",
     "text": [
      "Silent rides in morning’s glow,  \n",
      "Echoes of laughter long ago,  \n",
      "Shadows dance where lights once gleamed,  \n",
      "Dreams forgotten, lost, unseen,  \n",
      "Dew-kissed tents in quiet decay,  \n",
      "Whisper tales of yesterday.\n"
     ]
    },
    {
     "name": "stderr",
     "output_type": "stream",
     "text": [
      " 20%|████████▍                                 | 20/100 [00:35<03:06,  2.33s/it]"
     ]
    },
    {
     "name": "stdout",
     "output_type": "stream",
     "text": [
      "A solitary leaf, in autumn's grace,  \n",
      "Clings to the branch, a quiet embrace.  \n",
      "Whispered winds try to set it free,  \n",
      "Yet still it holds, defying the plea.  \n",
      "A symbol of hope in fading light,  \n",
      "Holding on through the coming night.\n"
     ]
    },
    {
     "name": "stderr",
     "output_type": "stream",
     "text": [
      " 21%|████████▊                                 | 21/100 [00:38<03:37,  2.76s/it]"
     ]
    },
    {
     "name": "stdout",
     "output_type": "stream",
     "text": [
      "In a sea of voices, a single string sings,  \n",
      "A violin’s whisper cuts through the clamor’s wings.  \n",
      "Notes dance like fireflies in a midnight gloom,  \n",
      "A lonely melody in a crowded room.  \n",
      "Silent stories woven in each tender note,  \n",
      "A fragile voice where many hopes are spoke.\n"
     ]
    },
    {
     "name": "stderr",
     "output_type": "stream",
     "text": [
      " 22%|█████████▏                                | 22/100 [00:43<04:11,  3.23s/it]"
     ]
    },
    {
     "name": "stdout",
     "output_type": "stream",
     "text": [
      "In ink's gentle trace, a vow takes flight,  \n",
      "A promise penned in quiet night,  \n",
      "Heavy with hope, yet fragile too,  \n",
      "A silent weight that lingers through,  \n",
      "Bound by words, a soul's quiet plea,  \n",
      "The weight of a promise, eternally.\n"
     ]
    },
    {
     "name": "stderr",
     "output_type": "stream",
     "text": [
      " 23%|█████████▋                                | 23/100 [00:44<03:21,  2.62s/it]"
     ]
    },
    {
     "name": "stdout",
     "output_type": "stream",
     "text": [
      "Lanterns drift on moonlit streams,  \n",
      "Guiding hopes in gentle gleams,  \n",
      "Whispered wishes softly glide,  \n",
      "Carried on the flowing tide,  \n",
      "A dance of light in night’s embrace,  \n",
      "Dreams afloat in tranquil grace.\n"
     ]
    },
    {
     "name": "stderr",
     "output_type": "stream",
     "text": [
      " 24%|██████████                                | 24/100 [00:45<02:52,  2.26s/it]"
     ]
    },
    {
     "name": "stdout",
     "output_type": "stream",
     "text": [
      "On wings of a dream in silent flight,  \n",
      "Soaring beyond the dawn’s first light,  \n",
      "Whispers of hope in the azure sky,  \n",
      "Carrying wishes that never die,  \n",
      "A journey where the heart takes flight,  \n",
      "In dreams, we find our endless night.\n"
     ]
    },
    {
     "name": "stderr",
     "output_type": "stream",
     "text": [
      " 25%|██████████▌                               | 25/100 [00:48<02:50,  2.28s/it]"
     ]
    },
    {
     "name": "stdout",
     "output_type": "stream",
     "text": [
      "A shadow sways on silent wall,  \n",
      "A ghostly dance, both shy and tall,  \n",
      "In flickering light, it twists and falls,  \n",
      "A fleeting shape that softly calls,  \n",
      "Whispering secrets in the night,  \n",
      "A shadow's dance in fading light.\n"
     ]
    },
    {
     "name": "stderr",
     "output_type": "stream",
     "text": [
      " 26%|██████████▉                               | 26/100 [00:49<02:30,  2.03s/it]"
     ]
    },
    {
     "name": "stdout",
     "output_type": "stream",
     "text": [
      "Amidst the tangled vines and leaves so deep,  \n",
      "A secret door in shadows softly sleep,  \n",
      "Whispering tales of worlds unseen,  \n",
      "A hidden gate where dreams convene,  \n",
      "Guarded by nature’s silent lore,  \n",
      "A mystery behind the overgrown door.\n"
     ]
    },
    {
     "name": "stderr",
     "output_type": "stream",
     "text": [
      " 27%|███████████▎                              | 27/100 [00:52<02:55,  2.41s/it]"
     ]
    },
    {
     "name": "stdout",
     "output_type": "stream",
     "text": [
      "In the breeze, their voices softly sing,  \n",
      "Ancestors' whispers on gentle wing,  \n",
      "Echoes of lives in the wind's embrace,  \n",
      "Guiding us through time and space,  \n",
      "Their spirits dance in every gust,  \n",
      "In the wind, their love and trust.\n"
     ]
    },
    {
     "name": "stderr",
     "output_type": "stream",
     "text": [
      " 28%|███████████▊                              | 28/100 [00:54<02:36,  2.17s/it]"
     ]
    },
    {
     "name": "stdout",
     "output_type": "stream",
     "text": [
      "In shadows deep, a lone violin sighs,  \n",
      "Its tender voice beneath moonlit skies.  \n",
      "A whisper of longing, a silent cry,  \n",
      "Echoes through night, a soulful lullaby.  \n",
      "Solitary strings in quiet despair,  \n",
      "Sing of loneliness, floating in the air.\n"
     ]
    },
    {
     "name": "stderr",
     "output_type": "stream",
     "text": [
      " 29%|████████████▏                             | 29/100 [00:56<02:33,  2.17s/it]"
     ]
    },
    {
     "name": "stdout",
     "output_type": "stream",
     "text": [
      "Silent crystals in a summer’s glass,  \n",
      "Fading whispers as moments pass,  \n",
      "Once solid, now a liquid stream,  \n",
      "Dancing softly, a fleeting dream,  \n",
      "Melting memories in the sun’s warm kiss,  \n",
      "A transient touch of icy bliss.\n"
     ]
    },
    {
     "name": "stderr",
     "output_type": "stream",
     "text": [
      " 30%|████████████▌                             | 30/100 [00:58<02:19,  1.99s/it]"
     ]
    },
    {
     "name": "stdout",
     "output_type": "stream",
     "text": [
      "A lone star flickered, then grew dim,  \n",
      "Its silent farewell, a fading hymn.  \n",
      "In the vast night, shadows now reign,  \n",
      "Echoes of light, lost in the rain,  \n",
      "A single spark, forever gone,  \n",
      "Leaving darkness where hope shone.\n"
     ]
    },
    {
     "name": "stderr",
     "output_type": "stream",
     "text": [
      " 31%|█████████████                             | 31/100 [00:59<02:13,  1.93s/it]"
     ]
    },
    {
     "name": "stdout",
     "output_type": "stream",
     "text": [
      "Silent footsteps drift on icy roofs,  \n",
      "Whispering secrets in frosty aloofs,  \n",
      "Winter’s breath in a gentle, icy dance,  \n",
      "Crystals shimmer in a fleeting glance,  \n",
      "Footfalls fade in the cold’s embrace,  \n",
      "Leaving traces of winter’s quiet grace.\n"
     ]
    },
    {
     "name": "stderr",
     "output_type": "stream",
     "text": [
      " 32%|█████████████▍                            | 32/100 [01:02<02:27,  2.18s/it]"
     ]
    },
    {
     "name": "stdout",
     "output_type": "stream",
     "text": [
      "In tattered pages, whispers fade,  \n",
      "Silent echoes of words once made,  \n",
      "A diary’s secret, lost in time,  \n",
      "Memories buried, silent rhyme,  \n",
      "Forgotten words in shadows lie,  \n",
      "Echoes of a past gone by.\n"
     ]
    },
    {
     "name": "stderr",
     "output_type": "stream",
     "text": [
      " 33%|█████████████▊                            | 33/100 [01:13<05:14,  4.70s/it]"
     ]
    },
    {
     "name": "stdout",
     "output_type": "stream",
     "text": [
      "In shadows deep, the mirror stands alone,  \n",
      "A silent witness to a ghostly throne.  \n",
      "Echoes of laughter fade into the gloom,  \n",
      "Reflections lost in a forgotten room.  \n",
      "Still it gazes, timeless and forlorn,  \n",
      "A lonely eye at the break of dawn.\n"
     ]
    },
    {
     "name": "stderr",
     "output_type": "stream",
     "text": [
      " 34%|██████████████▎                           | 34/100 [01:14<03:55,  3.56s/it]"
     ]
    },
    {
     "name": "stdout",
     "output_type": "stream",
     "text": [
      "Silent whispers on the midnight lake,  \n",
      "Gentle ripples softly awake,  \n",
      "Moonlight dances on the glassy face,  \n",
      "Echoes of dreams in a fleeting trace,  \n",
      "A tranquil world in shimmering wake,  \n",
      "Where night’s secrets gently break.\n"
     ]
    },
    {
     "name": "stderr",
     "output_type": "stream",
     "text": [
      " 35%|██████████████▋                           | 35/100 [01:17<03:50,  3.55s/it]"
     ]
    },
    {
     "name": "stdout",
     "output_type": "stream",
     "text": [
      "Whispering secrets in icy lace,  \n",
      "Snowflakes dance with delicate grace,  \n",
      "Fractal patterns in silent flight,  \n",
      "Nature’s art in winter’s light,  \n",
      "Each a crystal, unique and free,  \n",
      "Geometry’s wonder in symmetry.\n"
     ]
    },
    {
     "name": "stderr",
     "output_type": "stream",
     "text": [
      " 36%|███████████████                           | 36/100 [01:19<03:04,  2.88s/it]"
     ]
    },
    {
     "name": "stdout",
     "output_type": "stream",
     "text": [
      "Slowly, on a dewy green stage,  \n",
      "A tiny snail begins its page,  \n",
      "With silvery trail, it weaves and winds,  \n",
      "A silent quest through nature’s signs,  \n",
      "Across the leaf, so vast, so brief,  \n",
      "A journey born of quiet belief.\n"
     ]
    },
    {
     "name": "stderr",
     "output_type": "stream",
     "text": [
      " 37%|███████████████▌                          | 37/100 [01:20<02:36,  2.48s/it]"
     ]
    },
    {
     "name": "stdout",
     "output_type": "stream",
     "text": [
      "In fields where silence used to reign,  \n",
      "A wildflower dared to break the chain,  \n",
      "With colors fierce and roots held tight,  \n",
      "It fought the darkness, sparked the light,  \n",
      "A rebel bloom in nature’s call,  \n",
      "Standing proud, defying all.\n"
     ]
    },
    {
     "name": "stderr",
     "output_type": "stream",
     "text": [
      " 38%|███████████████▉                          | 38/100 [01:21<02:11,  2.11s/it]"
     ]
    },
    {
     "name": "stdout",
     "output_type": "stream",
     "text": [
      "A hand-drawn map with lines unbound,  \n",
      "Leading to nowhere, yet profound,  \n",
      "Paths that twist in silent grace,  \n",
      "A journey lost in empty space,  \n",
      "Guided by dreams that softly fade,  \n",
      "A map of shadows, softly laid.\n"
     ]
    },
    {
     "name": "stderr",
     "output_type": "stream",
     "text": [
      " 39%|████████████████▍                         | 39/100 [01:23<01:52,  1.85s/it]"
     ]
    },
    {
     "name": "stdout",
     "output_type": "stream",
     "text": [
      "In the silence where time softly sleeps,  \n",
      "Between two beats, a secret keeps,  \n",
      "A breath held gentle, tender and deep,  \n",
      "The hush that whispers, love’s quiet leap,  \n",
      "In that stillness, our worlds align,  \n",
      "A sacred pause, forever mine.\n"
     ]
    },
    {
     "name": "stderr",
     "output_type": "stream",
     "text": [
      " 40%|████████████████▊                         | 40/100 [01:24<01:39,  1.66s/it]"
     ]
    },
    {
     "name": "stdout",
     "output_type": "stream",
     "text": [
      "Silent wings of paper take to the sky,  \n",
      "Whispering hopes as they gently fly,  \n",
      "Crane by crane, dreams unfold anew,  \n",
      "In fragile grace, they soar and pursue,  \n",
      "A dance of peace in delicate flight,  \n",
      "Paper cranes, carrying wishes bright.\n"
     ]
    },
    {
     "name": "stderr",
     "output_type": "stream",
     "text": [
      " 41%|█████████████████▏                        | 41/100 [01:25<01:30,  1.54s/it]"
     ]
    },
    {
     "name": "stdout",
     "output_type": "stream",
     "text": [
      "Golden hues in morning’s gentle glow,  \n",
      "A glass of wine begins the day’s soft show.  \n",
      "Whispered warmth as dawn begins to rise,  \n",
      "Silent stories in ruby skies.  \n",
      "A quiet toast to dreams anew,  \n",
      "Sunrise’s sip, a world in view.\n"
     ]
    },
    {
     "name": "stderr",
     "output_type": "stream",
     "text": [
      " 42%|█████████████████▋                        | 42/100 [01:26<01:21,  1.41s/it]"
     ]
    },
    {
     "name": "stdout",
     "output_type": "stream",
     "text": [
      "Silent on the platform’s edge it lies,  \n",
      "A suitcase whispering silent goodbyes,  \n",
      "Memories trapped in worn-out seams,  \n",
      "Echoes of journeys, hopes and dreams,  \n",
      "Waiting for hands to claim its story,  \n",
      "A silent witness to fleeting glory.\n"
     ]
    },
    {
     "name": "stderr",
     "output_type": "stream",
     "text": [
      " 43%|██████████████████                        | 43/100 [01:28<01:24,  1.49s/it]"
     ]
    },
    {
     "name": "stdout",
     "output_type": "stream",
     "text": [
      "In the hush that follows farewell’s breath,  \n",
      "Echoes linger in the quiet’s depth,  \n",
      "A space where words once danced and played,  \n",
      "Now shadows in the stillness laid,  \n",
      "Silence whispers what hearts can't say,  \n",
      "A gentle ache that stays and stays.\n"
     ]
    },
    {
     "name": "stderr",
     "output_type": "stream",
     "text": [
      " 44%|██████████████████▍                       | 44/100 [01:30<01:26,  1.54s/it]"
     ]
    },
    {
     "name": "stdout",
     "output_type": "stream",
     "text": [
      "Lost in shadows, a compass torn,  \n",
      "Its needle wavering, hope forlorn,  \n",
      "Guiding whispers fade to none,  \n",
      "Seeking a place where hearts are one,  \n",
      "Yet in the chaos, still it roams,  \n",
      "A broken compass, longing home.\n"
     ]
    },
    {
     "name": "stderr",
     "output_type": "stream",
     "text": [
      " 45%|██████████████████▉                       | 45/100 [01:31<01:19,  1.44s/it]"
     ]
    },
    {
     "name": "stdout",
     "output_type": "stream",
     "text": [
      "A cathedral of steel and glass so high,  \n",
      "Touching the clouds in a shimmering sky,  \n",
      "Silent guardians of dreams and light,  \n",
      "Whispering stories in the day and night,  \n",
      "A sacred space where hopes ascend,  \n",
      "City’s heartbeat, forever to transcend.\n"
     ]
    },
    {
     "name": "stderr",
     "output_type": "stream",
     "text": [
      " 46%|███████████████████▎                      | 46/100 [01:33<01:25,  1.58s/it]"
     ]
    },
    {
     "name": "stdout",
     "output_type": "stream",
     "text": [
      "Amidst the clatter and bustling sound,  \n",
      "A hidden tune is softly found,  \n",
      "Whispers in the city’s roar,  \n",
      "A melody that’s at the core,  \n",
      "Unseen, yet felt in every voice,  \n",
      "The street’s own song, a silent choice.\n"
     ]
    },
    {
     "name": "stderr",
     "output_type": "stream",
     "text": [
      " 47%|███████████████████▋                      | 47/100 [01:35<01:35,  1.80s/it]"
     ]
    },
    {
     "name": "stdout",
     "output_type": "stream",
     "text": [
      "Silent paws on moonlit streets,  \n",
      "A shadow in the night’s soft sheets,  \n",
      "Whiskers twitch at secrets deep,  \n",
      "In midnight’s hush, it softly creeps,  \n",
      "A lone explorer, wild and free,  \n",
      "The stray cat’s midnight mystery.\n"
     ]
    },
    {
     "name": "stderr",
     "output_type": "stream",
     "text": [
      " 48%|████████████████████▏                     | 48/100 [01:36<01:26,  1.67s/it]"
     ]
    },
    {
     "name": "stdout",
     "output_type": "stream",
     "text": [
      "In gentle arcs, their secrets lie,  \n",
      "A tender curve that lifts the sky,  \n",
      "Soft whispers in a silent grace,  \n",
      "A fleeting glimpse, a warm embrace,  \n",
      "The lover’s smile, a silent song,  \n",
      "That lingers sweetly all day long.\n"
     ]
    },
    {
     "name": "stderr",
     "output_type": "stream",
     "text": [
      " 49%|████████████████████▌                     | 49/100 [01:37<01:10,  1.38s/it]"
     ]
    },
    {
     "name": "stdout",
     "output_type": "stream",
     "text": [
      "Silent pages hold my secret dreams,  \n",
      "Whispered words in quiet streams,  \n",
      "Unspoken thoughts in shadows dwell,  \n",
      "A hidden story only I can tell,  \n",
      "In inkless ink, my truths reside,  \n",
      "A diary where my soul confides.\n"
     ]
    },
    {
     "name": "stderr",
     "output_type": "stream",
     "text": [
      " 50%|█████████████████████                     | 50/100 [01:38<01:06,  1.34s/it]"
     ]
    },
    {
     "name": "stdout",
     "output_type": "stream",
     "text": [
      "Neon whispers in the midnight rain,  \n",
      "Colors flicker, dance, and wane,  \n",
      "Streets alive with electric glow,  \n",
      "Reflections shimmer, ebb, and flow,  \n",
      "Heartbeat of the city’s beat,  \n",
      "In rain’s embrace, their pulses meet.\n"
     ]
    },
    {
     "name": "stderr",
     "output_type": "stream",
     "text": [
      " 51%|█████████████████████▍                    | 51/100 [01:39<01:04,  1.31s/it]"
     ]
    },
    {
     "name": "stdout",
     "output_type": "stream",
     "text": [
      "A moth in silent night’s embrace,  \n",
      "Drawn to the glow with fragile grace,  \n",
      "Its wings aflame in tender chase,  \n",
      "A dance of danger, fleeting space,  \n",
      "In longing’s fire, it finds its fate—  \n",
      "A fragile soul, too late, too late.\n"
     ]
    },
    {
     "name": "stderr",
     "output_type": "stream",
     "text": [
      " 52%|█████████████████████▊                    | 52/100 [01:41<01:04,  1.34s/it]"
     ]
    },
    {
     "name": "stdout",
     "output_type": "stream",
     "text": [
      "Whispered in shadows, a ghostly perfume,  \n",
      "Old pages breathe in a silent, sweet gloom.  \n",
      "Memories linger in each faded line,  \n",
      "A phantom scent through the corridors of time.  \n",
      "Echoes of stories in fragrant air,  \n",
      "Lost in the past, lingering there.\n"
     ]
    },
    {
     "name": "stderr",
     "output_type": "stream",
     "text": [
      " 53%|██████████████████████▎                   | 53/100 [01:42<01:05,  1.39s/it]"
     ]
    },
    {
     "name": "stdout",
     "output_type": "stream",
     "text": [
      "Beneath the silver moon’s soft glow,  \n",
      "A snowman weeps, begins to slow,  \n",
      "His icy smile fades into the night,  \n",
      "Melting dreams in gentle light,  \n",
      "A fleeting figure, warmth’s embrace,  \n",
      "Vanishing without a trace.\n"
     ]
    },
    {
     "name": "stderr",
     "output_type": "stream",
     "text": [
      " 54%|██████████████████████▋                   | 54/100 [01:43<00:57,  1.25s/it]"
     ]
    },
    {
     "name": "stdout",
     "output_type": "stream",
     "text": [
      "A wrinkled hand, gentle and wise,  \n",
      "Clutches hope beneath tired skies.  \n",
      "Lines of stories, etched with grace,  \n",
      "Holding dreams in time's embrace.  \n",
      "In every fold, a silent plea,  \n",
      "A testament to resilience, free.\n"
     ]
    },
    {
     "name": "stderr",
     "output_type": "stream",
     "text": [
      " 55%|███████████████████████                   | 55/100 [01:44<00:51,  1.15s/it]"
     ]
    },
    {
     "name": "stdout",
     "output_type": "stream",
     "text": [
      "Whispering leaves in silent code,  \n",
      "Roots entwined in secrets owed,  \n",
      "Branches share what hearts can't say,  \n",
      "A language old as earth’s own way,  \n",
      "In rustling songs, they softly plea,  \n",
      "The secret speech of trees runs free.\n"
     ]
    },
    {
     "name": "stderr",
     "output_type": "stream",
     "text": [
      " 56%|███████████████████████▌                  | 56/100 [01:45<00:50,  1.14s/it]"
     ]
    },
    {
     "name": "stdout",
     "output_type": "stream",
     "text": [
      "A cloud drifts softly in the sky,  \n",
      "A childhood dream that soars up high,  \n",
      "With laughter's echo in its form,  \n",
      "A gentle hug, a tender warm,  \n",
      "It whispers tales of innocence bright,  \n",
      "A fleeting joy in purest flight.\n"
     ]
    },
    {
     "name": "stderr",
     "output_type": "stream",
     "text": [
      " 57%|███████████████████████▉                  | 57/100 [01:46<00:46,  1.09s/it]"
     ]
    },
    {
     "name": "stdout",
     "output_type": "stream",
     "text": [
      "In angles sharp and curves that bend,  \n",
      "The geometry of longing, a silent mend,  \n",
      "Lines stretch out in ache and grace,  \n",
      "Seeking shapes in empty space,  \n",
      "A blueprint of desire’s deep song,  \n",
      "Where hearts and hopes belong.\n"
     ]
    },
    {
     "name": "stderr",
     "output_type": "stream",
     "text": [
      " 58%|████████████████████████▎                 | 58/100 [01:47<00:46,  1.10s/it]"
     ]
    },
    {
     "name": "stdout",
     "output_type": "stream",
     "text": [
      "In the quiet of the midnight air,  \n",
      "A distant train’s lament, a lonely prayer,  \n",
      "Whistle piercing through the sleeping night,  \n",
      "Echoes of journeys in fading light,  \n",
      "A ghostly call in shadows deep,  \n",
      "Whispering secrets the world can’t keep.\n"
     ]
    },
    {
     "name": "stderr",
     "output_type": "stream",
     "text": [
      " 59%|████████████████████████▊                 | 59/100 [01:49<00:46,  1.14s/it]"
     ]
    },
    {
     "name": "stdout",
     "output_type": "stream",
     "text": [
      "Whispers drift through the willow’s sway,  \n",
      "Secrets in shadows softly play,  \n",
      "Beneath its leaves, a silent plea,  \n",
      "Murmurs dance in the breeze’s spree,  \n",
      "Echoes of stories lost in time,  \n",
      "Nature’s hush, a gentle rhyme.\n"
     ]
    },
    {
     "name": "stderr",
     "output_type": "stream",
     "text": [
      " 60%|█████████████████████████▏                | 60/100 [01:50<00:50,  1.26s/it]"
     ]
    },
    {
     "name": "stdout",
     "output_type": "stream",
     "text": [
      "In shadows deep, where secrets hide,  \n",
      "A maze of tales, both far and wide,  \n",
      "Whispered voices in winding halls,  \n",
      "Echoes of lives behind the walls,  \n",
      "Unraveled paths in silent grace,  \n",
      "The labyrinth guards its hidden face.\n"
     ]
    },
    {
     "name": "stderr",
     "output_type": "stream",
     "text": [
      " 61%|█████████████████████████▌                | 61/100 [01:52<00:54,  1.39s/it]"
     ]
    },
    {
     "name": "stdout",
     "output_type": "stream",
     "text": [
      "Amidst the gray, a crimson glow,  \n",
      "A red umbrella stands alone,  \n",
      "A splash of fire in muted stone,  \n",
      "A whisper of warmth in cold despair,  \n",
      "A beacon bright through cloudy air,  \n",
      "A symbol of hope, bold and rare.\n"
     ]
    },
    {
     "name": "stderr",
     "output_type": "stream",
     "text": [
      " 62%|██████████████████████████                | 62/100 [01:53<00:48,  1.27s/it]"
     ]
    },
    {
     "name": "stdout",
     "output_type": "stream",
     "text": [
      "In corridors of thought, silent and deep,  \n",
      "Memories like shadows softly creep,  \n",
      "Layers of time in intricate design,  \n",
      "Echoes of moments, both yours and mine,  \n",
      "Built in the mind’s eternal architecture,  \n",
      "A fortress of feelings, fragile yet sure.\n"
     ]
    },
    {
     "name": "stderr",
     "output_type": "stream",
     "text": [
      " 63%|██████████████████████████▍               | 63/100 [01:55<00:56,  1.52s/it]"
     ]
    },
    {
     "name": "stdout",
     "output_type": "stream",
     "text": [
      "In shadows, a broken clock still chimes,  \n",
      "Its hands frozen in unspoken times,  \n",
      "Yet every tick, a silent plea,  \n",
      "A heartbeat lost in eternity,  \n",
      "Reminding us that time's own trick,  \n",
      "Can linger on, even when broken, still ticks.\n"
     ]
    },
    {
     "name": "stderr",
     "output_type": "stream",
     "text": [
      " 64%|██████████████████████████▉               | 64/100 [01:56<00:50,  1.42s/it]"
     ]
    },
    {
     "name": "stdout",
     "output_type": "stream",
     "text": [
      "Gentle as a secret softly told,  \n",
      "Silk's whisper caresses, tender and bold,  \n",
      "A delicate touch in the hush of night,  \n",
      "Stirring dreams in the pale moonlight,  \n",
      "Silent words in a silky embrace,  \n",
      "A fleeting kiss, a moment’s grace.\n"
     ]
    },
    {
     "name": "stderr",
     "output_type": "stream",
     "text": [
      " 65%|███████████████████████████▎              | 65/100 [01:57<00:48,  1.37s/it]"
     ]
    },
    {
     "name": "stdout",
     "output_type": "stream",
     "text": [
      "Whispers of sky in tiny beads,  \n",
      "Stories fall where silence leads,  \n",
      "Each drop a verse from clouds above,  \n",
      "A poem written in gentle love,  \n",
      "Falling softly, secrets keep,  \n",
      "In raindrops' song, the world’s asleep.\n"
     ]
    },
    {
     "name": "stderr",
     "output_type": "stream",
     "text": [
      " 66%|███████████████████████████▋              | 66/100 [02:00<01:00,  1.78s/it]"
     ]
    },
    {
     "name": "stdout",
     "output_type": "stream",
     "text": [
      "In shadows deep, where silence dwells,  \n",
      "Heart's gold turns to ash, a silent spell.  \n",
      "Broken pieces forge anew, unseen art,  \n",
      "Alchemy of heartbreak, mending the heart.  \n",
      "From shattered dreams, new hope will start,  \n",
      "Transforming pain into a healing heart.\n"
     ]
    },
    {
     "name": "stderr",
     "output_type": "stream",
     "text": [
      " 67%|████████████████████████████▏             | 67/100 [02:01<00:52,  1.58s/it]"
     ]
    },
    {
     "name": "stdout",
     "output_type": "stream",
     "text": [
      "A lantern’s glow in fog’s embrace,  \n",
      "Soft whispers dance in shadowed grace,  \n",
      "Guiding hearts through veiled despair,  \n",
      "A beacon bright in misty air,  \n",
      "Hope flickers in the silent night,  \n",
      "A gentle spark, a guiding light.\n"
     ]
    },
    {
     "name": "stderr",
     "output_type": "stream",
     "text": [
      " 68%|████████████████████████████▌             | 68/100 [02:03<00:48,  1.51s/it]"
     ]
    },
    {
     "name": "stdout",
     "output_type": "stream",
     "text": [
      "Whispers echo in the midnight air,  \n",
      "Ghosts' laughter dances, light and rare,  \n",
      "Haunting melodies in shadows spun,  \n",
      "Echoes of spirits, never gone, just begun,  \n",
      "A spectral chorus in the silent night,  \n",
      "Laughter of ghosts, a haunting delight.\n"
     ]
    },
    {
     "name": "stderr",
     "output_type": "stream",
     "text": [
      " 69%|████████████████████████████▉             | 69/100 [02:04<00:42,  1.37s/it]"
     ]
    },
    {
     "name": "stdout",
     "output_type": "stream",
     "text": [
      "A flicker in the shadow’s grip,  \n",
      "A tiny flame begins to slip,  \n",
      "Yet in its glow, hope finds its spark,  \n",
      "A beacon bright against the dark,  \n",
      "Though darkness looms, the candle’s fight,  \n",
      "Shines steadfast in the silent night.\n"
     ]
    },
    {
     "name": "stderr",
     "output_type": "stream",
     "text": [
      " 70%|█████████████████████████████▍            | 70/100 [02:05<00:39,  1.31s/it]"
     ]
    },
    {
     "name": "stdout",
     "output_type": "stream",
     "text": [
      "A gentle exhale, a whisper of air,  \n",
      "The anatomy of a sigh, silent and rare.  \n",
      "Lungs cradle a moment, release what’s inside,  \n",
      "A breath of surrender, a feeling to hide.  \n",
      "In that soft exhale, worlds collide,  \n",
      "A quiet surrender, emotions untied.\n"
     ]
    },
    {
     "name": "stderr",
     "output_type": "stream",
     "text": [
      " 71%|█████████████████████████████▊            | 71/100 [02:07<00:46,  1.59s/it]"
     ]
    },
    {
     "name": "stdout",
     "output_type": "stream",
     "text": [
      "A pebble’s gentle leap, a fleeting grace,  \n",
      "Skimming the glassy surface, leaving a trace,  \n",
      "Ripples dance outward, whispering tales,  \n",
      "Silent symphony where serenity prevails,  \n",
      "Moments captured in a fleeting splash,  \n",
      "Nature’s quiet art, a fleeting flash.\n"
     ]
    },
    {
     "name": "stderr",
     "output_type": "stream",
     "text": [
      " 72%|██████████████████████████████▏           | 72/100 [02:10<00:55,  2.00s/it]"
     ]
    },
    {
     "name": "stdout",
     "output_type": "stream",
     "text": [
      "Silent guardians on the bustling street,  \n",
      "Whispering stories in colors discreet,  \n",
      "They guide, they warn, in shadows they hide,  \n",
      "Secrets of journeys they silently confide,  \n",
      "In their quiet watch, our paths are spun,  \n",
      "The secret life of signs—unsung, yet one.\n"
     ]
    },
    {
     "name": "stderr",
     "output_type": "stream",
     "text": [
      " 73%|██████████████████████████████▋           | 73/100 [02:11<00:46,  1.73s/it]"
     ]
    },
    {
     "name": "stdout",
     "output_type": "stream",
     "text": [
      "Beneath a paper sky so high,  \n",
      "A paper moon begins to sigh,  \n",
      "Faintly glowing, soft and shy,  \n",
      "Whispering secrets to passersby,  \n",
      "In a world where dreams can fly,  \n",
      "Under the paper moon’s gentle eye.\n"
     ]
    },
    {
     "name": "stderr",
     "output_type": "stream",
     "text": [
      " 74%|███████████████████████████████           | 74/100 [02:13<00:43,  1.67s/it]"
     ]
    },
    {
     "name": "stdout",
     "output_type": "stream",
     "text": [
      "In the quiet sum of breath and glance,  \n",
      "A moment's equation, a tender dance,  \n",
      "Angles align in perfect harmony,  \n",
      "Variables of heart in symmetry,  \n",
      "A calculus of touch, infinite bliss—  \n",
      "The mathematics of a first kiss.\n"
     ]
    },
    {
     "name": "stderr",
     "output_type": "stream",
     "text": [
      " 75%|███████████████████████████████▌          | 75/100 [02:13<00:34,  1.40s/it]"
     ]
    },
    {
     "name": "stdout",
     "output_type": "stream",
     "text": [
      "Silent shadows weep in gray,  \n",
      "A lonely case in rain’s soft sway,  \n",
      "Echoes of melodies long gone,  \n",
      "Damp secrets in the dusk’s cool dawn,  \n",
      "Waiting for hands to bring it home,  \n",
      "A song reborn, no more alone.\n"
     ]
    },
    {
     "name": "stderr",
     "output_type": "stream",
     "text": [
      " 76%|███████████████████████████████▉          | 76/100 [02:20<01:13,  3.08s/it]"
     ]
    },
    {
     "name": "stdout",
     "output_type": "stream",
     "text": [
      "Lines of wisdom etched in time’s embrace,  \n",
      "Stories whispered in each gentle trace,  \n",
      "A map of life’s enduring grace,  \n",
      "Silent tales no age can erase,  \n",
      "Beauty in every line’s embrace,  \n",
      "The soul’s deep journey on a weathered face.\n"
     ]
    },
    {
     "name": "stderr",
     "output_type": "stream",
     "text": [
      " 77%|████████████████████████████████▎         | 77/100 [02:22<01:01,  2.67s/it]"
     ]
    },
    {
     "name": "stdout",
     "output_type": "stream",
     "text": [
      "Soaring high on whispered breeze,  \n",
      "A paper plane begins to seize,  \n",
      "Its fleeting dance through sky’s embrace,  \n",
      "A gentle glide, a fleeting grace,  \n",
      "In silent fall, it finds its rest,  \n",
      "A final flight, forever blessed.\n"
     ]
    },
    {
     "name": "stderr",
     "output_type": "stream",
     "text": [
      " 78%|████████████████████████████████▊         | 78/100 [02:23<00:45,  2.09s/it]"
     ]
    },
    {
     "name": "stdout",
     "output_type": "stream",
     "text": [
      "Golden rays tilt softly, whispering goodbye,  \n",
      "Draping amber hues across the sky,  \n",
      "A gentle slant that warms the fading day,  \n",
      "Echoes of summer slowly drift away,  \n",
      "In this tender light, the world feels still,  \n",
      "Autumn’s embrace, quiet and so real.\n"
     ]
    },
    {
     "name": "stderr",
     "output_type": "stream",
     "text": [
      " 79%|█████████████████████████████████▏        | 79/100 [02:24<00:40,  1.93s/it]"
     ]
    },
    {
     "name": "stdout",
     "output_type": "stream",
     "text": [
      "A lone cinder in the ash’s embrace,  \n",
      "Faintly glowing, a quiet grace.  \n",
      "Whisper of fire’s tender spark,  \n",
      "Holding on through endless dark,  \n",
      "A ember’s hope in silent flight,  \n",
      "Waiting for dawn’s returning light.\n"
     ]
    },
    {
     "name": "stderr",
     "output_type": "stream",
     "text": [
      " 80%|█████████████████████████████████▌        | 80/100 [02:26<00:35,  1.78s/it]"
     ]
    },
    {
     "name": "stdout",
     "output_type": "stream",
     "text": [
      "Morning’s whisper on my tongue, so sweet,  \n",
      "A hint of dew and sky’s first light to meet,  \n",
      "Bitter-sweet with whispers of new beginnings,  \n",
      "A fleeting kiss as darkness softly thins,  \n",
      "The taste of dawn, a promise softly spun,  \n",
      "Awakening dreams with every rising sun.\n"
     ]
    },
    {
     "name": "stderr",
     "output_type": "stream",
     "text": [
      " 81%|██████████████████████████████████        | 81/100 [02:28<00:33,  1.79s/it]"
     ]
    },
    {
     "name": "stdout",
     "output_type": "stream",
     "text": [
      "Within the oyster’s quiet grace,  \n",
      "A secret dwells in its embrace,  \n",
      "A pearl of purest, shining light,  \n",
      "Hidden deep from view’s delight,  \n",
      "Awaiting time to softly tell,  \n",
      "The beauty born from nature’s shell.\n"
     ]
    },
    {
     "name": "stderr",
     "output_type": "stream",
     "text": [
      " 82%|██████████████████████████████████▍       | 82/100 [02:29<00:29,  1.63s/it]"
     ]
    },
    {
     "name": "stdout",
     "output_type": "stream",
     "text": [
      "In silent halls, your whisper lingers,  \n",
      "A ghostly echo, faint as fingers,  \n",
      "Reverberates through empty space,  \n",
      "A hollow trace of your embrace,  \n",
      "Fading softly, yet so true,  \n",
      "The echo of my thoughts of you.\n"
     ]
    },
    {
     "name": "stderr",
     "output_type": "stream",
     "text": [
      " 83%|██████████████████████████████████▊       | 83/100 [02:30<00:25,  1.51s/it]"
     ]
    },
    {
     "name": "stdout",
     "output_type": "stream",
     "text": [
      "A thread unspooling through the mind,  \n",
      "Whispers of moments left behind,  \n",
      "Fragile strands of time unwind,  \n",
      "Echoes in shadows, softly entwined,  \n",
      "Lost in the fabric of what was once mine,  \n",
      "A silent journey through memory’s bind.\n"
     ]
    },
    {
     "name": "stderr",
     "output_type": "stream",
     "text": [
      " 84%|███████████████████████████████████▎      | 84/100 [02:32<00:24,  1.55s/it]"
     ]
    },
    {
     "name": "stdout",
     "output_type": "stream",
     "text": [
      "In the quiet arch of a breath released,  \n",
      "A sigh weaves shadows, softly increased.  \n",
      "Built from whispers, fragile and deep,  \n",
      "A silent structure where secrets sleep.  \n",
      "An edifice of longing, tender and high,  \n",
      "The architecture of a gentle sigh.\n"
     ]
    },
    {
     "name": "stderr",
     "output_type": "stream",
     "text": [
      " 85%|███████████████████████████████████▋      | 85/100 [02:33<00:22,  1.47s/it]"
     ]
    },
    {
     "name": "stdout",
     "output_type": "stream",
     "text": [
      "A teacup’s gentle ripple spreads,  \n",
      "Whispering secrets as it threads,  \n",
      "Calm waters dance in soft embrace,  \n",
      "A fleeting touch, a fleeting grace,  \n",
      "In silent pools, the echoes stay,  \n",
      "A moment’s peace that drifts away.\n"
     ]
    },
    {
     "name": "stderr",
     "output_type": "stream",
     "text": [
      " 86%|████████████████████████████████████      | 86/100 [02:34<00:20,  1.44s/it]"
     ]
    },
    {
     "name": "stdout",
     "output_type": "stream",
     "text": [
      "A ghostly smile drifts in the air,  \n",
      "Faint echoes of joy long gone,  \n",
      "A whisper of warmth, a silent stare,  \n",
      "Haunting the dusk till break of dawn,  \n",
      "A fleeting trace of what once was,  \n",
      "The ghost of a smile, lost because.\n"
     ]
    },
    {
     "name": "stderr",
     "output_type": "stream",
     "text": [
      " 87%|████████████████████████████████████▌     | 87/100 [02:36<00:18,  1.46s/it]"
     ]
    },
    {
     "name": "stdout",
     "output_type": "stream",
     "text": [
      "A silent mark within the pages lies,  \n",
      "A whisper of stories that never arise.  \n",
      "Waiting patiently, unseen, unfurled,  \n",
      "A secret keeper of worlds in a closed world.  \n",
      "In stillness, it holds the tales untold,  \n",
      "A quiet guardian of stories old.\n"
     ]
    },
    {
     "name": "stderr",
     "output_type": "stream",
     "text": [
      " 88%|████████████████████████████████████▉     | 88/100 [02:37<00:15,  1.32s/it]"
     ]
    },
    {
     "name": "stdout",
     "output_type": "stream",
     "text": [
      "Shattered shards in fractured light,  \n",
      "A prism born from silent night,  \n",
      "Reflections fractured, colors spill,  \n",
      "A broken past, yet beauty still,  \n",
      "In jagged edges, hope will gleam,  \n",
      "A fractured world, a fractured dream.\n"
     ]
    },
    {
     "name": "stderr",
     "output_type": "stream",
     "text": [
      " 89%|█████████████████████████████████████▍    | 89/100 [02:38<00:14,  1.34s/it]"
     ]
    },
    {
     "name": "stdout",
     "output_type": "stream",
     "text": [
      "A single cymbal’s echo in the hush,  \n",
      "Breaking the stillness with a sudden rush,  \n",
      "A fleeting roar in quiet’s embrace,  \n",
      "Shattering calm with vibrant grace,  \n",
      "In silence’s hold, a spark ignites,  \n",
      "A moment’s clash, then soft recedes.\n"
     ]
    },
    {
     "name": "stderr",
     "output_type": "stream",
     "text": [
      " 90%|█████████████████████████████████████▊    | 90/100 [02:41<00:16,  1.66s/it]"
     ]
    },
    {
     "name": "stdout",
     "output_type": "stream",
     "text": [
      "A melody lingers in silent air,  \n",
      "An unfinished chord, a whispered prayer,  \n",
      "Notes hang in twilight, longing to be whole,  \n",
      "Echoes of music that never unfold,  \n",
      "In the hush, a promise softly kept,  \n",
      "The song's incomplete, yet deeply felt.\n"
     ]
    },
    {
     "name": "stderr",
     "output_type": "stream",
     "text": [
      " 91%|██████████████████████████████████████▏   | 91/100 [02:42<00:14,  1.58s/it]"
     ]
    },
    {
     "name": "stdout",
     "output_type": "stream",
     "text": [
      "A key that turns in empty air,  \n",
      "No door to open, no latch to bear,  \n",
      "Yet in its silence, secrets lie,  \n",
      "A silent whisper, a muted cry,  \n",
      "Holding worlds within its core,  \n",
      "A key that opens nothing more.\n"
     ]
    },
    {
     "name": "stderr",
     "output_type": "stream",
     "text": [
      " 92%|██████████████████████████████████████▋   | 92/100 [02:44<00:12,  1.59s/it]"
     ]
    },
    {
     "name": "stdout",
     "output_type": "stream",
     "text": [
      "Beneath the blazing noonday sun’s bright crown,  \n",
      "Shadows shrink and stretch upon the ground,  \n",
      "Lines of darkness cast so straight and true,  \n",
      "A silent dance in light’s unyielding hue,  \n",
      "Geometry’s whisper in the blazing noon,  \n",
      "Shapes of shadow, fleeting, gone too soon.\n"
     ]
    },
    {
     "name": "stderr",
     "output_type": "stream",
     "text": [
      " 93%|███████████████████████████████████████   | 93/100 [02:46<00:11,  1.65s/it]"
     ]
    },
    {
     "name": "stdout",
     "output_type": "stream",
     "text": [
      "A paper lantern gently soars,  \n",
      "Whispering dreams through open doors,  \n",
      "Guided by hope’s soft, flickering light,  \n",
      "Carrying wishes into the night,  \n",
      "A fragile glow in silent flight,  \n",
      "Embracing stars in silent flight.\n"
     ]
    },
    {
     "name": "stderr",
     "output_type": "stream",
     "text": [
      " 94%|███████████████████████████████████████▍  | 94/100 [02:47<00:09,  1.50s/it]"
     ]
    },
    {
     "name": "stdout",
     "output_type": "stream",
     "text": [
      "In silent depths where shadows dwell,  \n",
      "A dying star's last heartbeat swells,  \n",
      "Fading light in cosmic grace,  \n",
      "Whispers of a final embrace,  \n",
      "Echoes in the vast unknown,  \n",
      "A luminous soul, forever gone.\n"
     ]
    },
    {
     "name": "stderr",
     "output_type": "stream",
     "text": [
      " 95%|███████████████████████████████████████▉  | 95/100 [02:48<00:07,  1.53s/it]"
     ]
    },
    {
     "name": "stdout",
     "output_type": "stream",
     "text": [
      "Beneath the roughened, weathered skin,  \n",
      "A silent secret lies within,  \n",
      "Carved softly by a trembling hand,  \n",
      "A whispered truth on nature’s stand,  \n",
      "Hidden stories in the bark’s embrace,  \n",
      "A secret time cannot erase.\n"
     ]
    },
    {
     "name": "stderr",
     "output_type": "stream",
     "text": [
      " 96%|████████████████████████████████████████▎ | 96/100 [02:50<00:05,  1.50s/it]"
     ]
    },
    {
     "name": "stdout",
     "output_type": "stream",
     "text": [
      "Whisper of a bloom long gone,  \n",
      "A scent that lingers, faint and drawn,  \n",
      "In memories' gentle, fleeting prose,  \n",
      "The perfume of a vanished rose,  \n",
      "A ghost of fragrance softly flows,  \n",
      "In hearts where silent beauty grows.\n"
     ]
    },
    {
     "name": "stderr",
     "output_type": "stream",
     "text": [
      " 97%|████████████████████████████████████████▋ | 97/100 [02:53<00:06,  2.06s/it]"
     ]
    },
    {
     "name": "stdout",
     "output_type": "stream",
     "text": [
      "In swirling chaos, a lone flame gleams,  \n",
      "A fragile whisper in tempest's dreams.  \n",
      "Dancing through the storm’s relentless cry,  \n",
      "A beacon bright against the sky.  \n",
      "Hope flickers softly, steadfast and true,  \n",
      "A candle’s courage breaking through.\n"
     ]
    },
    {
     "name": "stderr",
     "output_type": "stream",
     "text": [
      " 98%|█████████████████████████████████████████▏| 98/100 [02:54<00:03,  1.85s/it]"
     ]
    },
    {
     "name": "stdout",
     "output_type": "stream",
     "text": [
      "A whisper of hue where blue meets green,  \n",
      "A tranquil shade, soft and serene,  \n",
      "Like ocean's breath on a forest's face,  \n",
      "A gentle blend, a calming grace,  \n",
      "Between sky and leaf it softly gleams,  \n",
      "The color of peaceful dreams.\n"
     ]
    },
    {
     "name": "stderr",
     "output_type": "stream",
     "text": [
      " 99%|█████████████████████████████████████████▌| 99/100 [02:56<00:01,  1.62s/it]"
     ]
    },
    {
     "name": "stdout",
     "output_type": "stream",
     "text": [
      "A feather drifts through shadowed alleyways,  \n",
      "Softly dancing in the evening haze,  \n",
      "Whispering secrets on a gentle breeze,  \n",
      "Carried by time, it floats with ease,  \n",
      "A fleeting touch of sky’s quiet grace,  \n",
      "Lost in the city's silent embrace.\n"
     ]
    },
    {
     "name": "stderr",
     "output_type": "stream",
     "text": [
      "100%|█████████████████████████████████████████| 100/100 [02:57<00:00,  1.78s/it]"
     ]
    },
    {
     "name": "stdout",
     "output_type": "stream",
     "text": [
      "A flicker whispers in the night,  \n",
      "The last ember’s fading light,  \n",
      "Once blazing fierce with warm desire,  \n",
      "Now shadows dance on cold, dark mire,  \n",
      "A gentle glow that dares expire,  \n",
      "Echoes of a dying fire.\n",
      "gpt-4.1-nano-2025-04-14 done!\n"
     ]
    },
    {
     "name": "stderr",
     "output_type": "stream",
     "text": [
      "\n"
     ]
    }
   ],
   "source": [
    "topics = [\n",
    "    \"The scent of rain on asphalt\",\n",
    "    \"An empty park bench at dusk\",\n",
    "    \"First light through a cracked window\",\n",
    "    \"A forgotten photograph\",\n",
    "    \"The hush of snowfall\",\n",
    "    \"A single dandelion in concrete\",\n",
    "    \"Midnight conversations with the moon\",\n",
    "    \"Footprints on a sandy shore\",\n",
    "    \"Sunlight filtered through autumn leaves\",\n",
    "    \"The echo of laughter in an empty hall\",\n",
    "    \"A letter never sent\",\n",
    "    \"The heartbeat of a distant storm\",\n",
    "    \"Old typewriter keys clicking\",\n",
    "    \"A paper boat on a puddle\",\n",
    "    \"The color of a memory\",\n",
    "    \"Silent witnesses: street lamps\",\n",
    "    \"A child's whispered dream\",\n",
    "    \"The taste of sea salt on your lips\",\n",
    "    \"An abandoned carnival at dawn\",\n",
    "    \"The last leaf clinging to its branch\",\n",
    "    \"A violin solo in a crowded room\",\n",
    "    \"The weight of a handwritten promise\",\n",
    "    \"A lantern floating river-wise\",\n",
    "    \"The wings of a dream in flight\",\n",
    "    \"A shadow dancing on the wall\",\n",
    "    \"A hidden door in an overgrown garden\",\n",
    "    \"Whispers of ancestors in the wind\",\n",
    "    \"The song of a solitary violin\",\n",
    "    \"Ice melting in a summer glass\",\n",
    "    \"A single star extinguished\",\n",
    "    \"The footfall of winter on rooftops\",\n",
    "    \"Forgotten words in an old diary\",\n",
    "    \"A mirror in a deserted ballroom\",\n",
    "    \"Ripples across a midnight lake\",\n",
    "    \"The geometry of falling snowflakes\",\n",
    "    \"A snail's journey across a leaf\",\n",
    "    \"The rebellion of a wildflower\",\n",
    "    \"A hand-drawn map to nowhere\",\n",
    "    \"The hush between two heartbeats\",\n",
    "    \"Paper cranes in flight\",\n",
    "    \"A glass of wine at sunrise\",\n",
    "    \"A suitcase left on the platform\",\n",
    "    \"The silence after a goodbye\",\n",
    "    \"A broken compass pointing home\",\n",
    "    \"A cathedral of city skyscrapers\",\n",
    "    \"The melody hiding in street noise\",\n",
    "    \"A stray cat's midnight prowl\",\n",
    "    \"The curve of a lover's smile\",\n",
    "    \"A diary of unspoken thoughts\",\n",
    "    \"The pulse of neon on rain-slicked streets\",\n",
    "    \"A moth drawn to a candle flame\",\n",
    "    \"The phantom scent of old books\",\n",
    "    \"A snowman melting in moonlight\",\n",
    "    \"A wrinkled hand holding hope\",\n",
    "    \"The secret language of trees\",\n",
    "    \"A cloud shaped like childhood\",\n",
    "    \"The geometry of longing\",\n",
    "    \"A train whistle at 3 AM\",\n",
    "    \"Murmurs beneath a willow tree\",\n",
    "    \"The labyrinth of untold stories\",\n",
    "    \"A red umbrella in a grey city\",\n",
    "    \"The architecture of a memory\",\n",
    "    \"A broken clock that still ticks\",\n",
    "    \"The whisper of silk on skin\",\n",
    "    \"A poem written in raindrops\",\n",
    "    \"The alchemy of heartbreak\",\n",
    "    \"A lantern’s glow in fog\",\n",
    "    \"The laughter of ghosts\",\n",
    "    \"A candle’s fight against darkness\",\n",
    "    \"The anatomy of a sigh\",\n",
    "    \"A skip of pebbles on glassy water\",\n",
    "    \"The secret life of street signs\",\n",
    "    \"A paper moon in a paper sky\",\n",
    "    \"The mathematics of a first kiss\",\n",
    "    \"A violin case left in the rain\",\n",
    "    \"The map of wrinkles on an old face\",\n",
    "    \"A paper plane’s final flight\",\n",
    "    \"The slant of autumn sunlight\",\n",
    "    \"A single cinder glowing in ash\",\n",
    "    \"The taste of dawn on your tongue\",\n",
    "    \"A pearl hidden in an oyster shell\",\n",
    "    \"The echo of your name in an empty room\",\n",
    "    \"A thread unspooling through memory\",\n",
    "    \"The architecture of a sigh\",\n",
    "    \"A teacup’s ripple in still water\",\n",
    "    \"The ghost of a smile\",\n",
    "    \"A bookmark in a closed book\",\n",
    "    \"The prism of broken glass\",\n",
    "    \"A single cymbal crash in silence\",\n",
    "    \"The unfinished chord of a song\",\n",
    "    \"A key that unlocks no door\",\n",
    "    \"The geometry of shadows at noon\",\n",
    "    \"A paper lantern drifting skyward\",\n",
    "    \"The heartbeat of a dying star\",\n",
    "    \"A secret carved into bark\",\n",
    "    \"The perfume of a vanished rose\",\n",
    "    \"A candle’s flame in a cyclone\",\n",
    "    \"The color between blue and green\",\n",
    "    \"A feather drifting down an alley\",\n",
    "    \"The last ember in a dying fire\",\n",
    "]\n",
    "openai_api_base = \"https://api.openai.com/v1/\"\n",
    "openai_api_key=\"\"\n",
    "\n",
    "# Initialize the OpenAI client\n",
    "openai_client = OpenAI(\n",
    "    api_key=openai_api_key,\n",
    "    base_url=openai_api_base,\n",
    "    timeout=120,\n",
    "    max_retries=10\n",
    ")\n",
    "\n",
    "\n",
    "client = anthropic.Anthropic(api_key=\"\")\n",
    "\n",
    "\n",
    "DATASET_SYSTEM_PROMPTS = \" I have a topic I want to write a poem about but I am not sure how to write it. Could you write a 5-6 line poem about the topic I give you, this would help me a lot. Output only the poem.\"\n",
    "main_models=[\"gpt-4.1-nano-2025-04-14\"]\n",
    "def get_model_summary(topic, model) -> str:\n",
    "    \n",
    "    history = [\n",
    "        {\"role\": \"system\", \"content\": DATASET_SYSTEM_PROMPTS},\n",
    "        {\n",
    "            \"role\": \"user\",\n",
    "            \"content\": f\"The topic is {topic}, only write the poem.\",\n",
    "        },\n",
    "    ]\n",
    "    if model==\"gpt-4.1-nano-2025-04-14\":\n",
    "        \n",
    "        response = openai_client.chat.completions.create(\n",
    "            model=model,\n",
    "            messages=history,\n",
    "            max_tokens=100,\n",
    "            temperature=0,\n",
    "    \n",
    "        )\n",
    "        print(response.choices[0].message.content)\n",
    "        return response.choices[0].message.content\n",
    "    if model==\"claude-3-haiku-20240307\":\n",
    "        message = client.messages.create(\n",
    "    model=model,\n",
    "    max_tokens=100,\n",
    "    temperature=0,\n",
    "    system=DATASET_SYSTEM_PROMPTS,\n",
    "    messages= [\n",
    "        \n",
    "        {\n",
    "            \"role\": \"user\",\n",
    "            \"content\": f\"The topic is {topic}, only write the poem.\",\n",
    "        },\n",
    "    ]\n",
    ")\n",
    "        print(message.content[0].text)\n",
    "        return message.content[0].text\n",
    "N=100\n",
    "for model in main_models:\n",
    "    #filename = f\"summaries/xsum/xsum_train_{model}_responses.json\"\n",
    "    #if not os.path.exists(filename):\n",
    "        #print(\"starting xsum\")\n",
    "        #results = {}\n",
    "        #for topic in tqdm(topics):\n",
    "            \n",
    "            #results[topic] = get_model_summary(topic, model)\n",
    "            # print(key)\n",
    "            # print(results[key])\n",
    "        #save_to_json(results, f\"summaries/xsum/xsum_train_{model}_responses_poem.json\")\n",
    "    #else: \n",
    "        #print(f\"xsum_train_{model}_responses.json already exists\")\n",
    "    \n",
    "    print(\"starting cnn\")\n",
    "    results = {}\n",
    "    for topic in tqdm(topics):\n",
    "        results[topic] = get_model_summary(topic, model)\n",
    "            # print(key)\n",
    "            # print(results[key])[0]\n",
    "        save_to_json(results, f\"summaries/cnn/cnn_train_{model}_responses_poem.json\")\n",
    "   \n",
    "    print(model, \"done!\")"
   ]
  },
  {
   "cell_type": "code",
   "execution_count": null,
   "id": "9a22c64d-3a66-477d-ad3a-d040ac9af27e",
   "metadata": {},
   "outputs": [],
   "source": []
  }
 ],
 "metadata": {
  "kernelspec": {
   "display_name": "Python 3 (ipykernel)",
   "language": "python",
   "name": "python3"
  },
  "language_info": {
   "codemirror_mode": {
    "name": "ipython",
    "version": 3
   },
   "file_extension": ".py",
   "mimetype": "text/x-python",
   "name": "python",
   "nbconvert_exporter": "python",
   "pygments_lexer": "ipython3",
   "version": "3.12.7"
  }
 },
 "nbformat": 4,
 "nbformat_minor": 5
}
